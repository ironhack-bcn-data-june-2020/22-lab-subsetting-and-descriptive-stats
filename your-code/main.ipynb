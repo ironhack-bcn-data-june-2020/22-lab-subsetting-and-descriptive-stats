{
 "cells": [
  {
   "cell_type": "markdown",
   "metadata": {
    "toc": true
   },
   "source": [
    "<h1>Table of Contents<span class=\"tocSkip\"></span></h1>\n",
    "<div class=\"toc\"><ul class=\"toc-item\"><li><span><a href=\"#Before-you-start-:\" data-toc-modified-id=\"Before-you-start-:-1\"><span class=\"toc-item-num\">1&nbsp;&nbsp;</span>Before you start :</a></span><ul class=\"toc-item\"><li><ul class=\"toc-item\"><li><ul class=\"toc-item\"><li><span><a href=\"#Import-all-the-libraries-that-are-necessary\" data-toc-modified-id=\"Import-all-the-libraries-that-are-necessary-1.0.0.1\"><span class=\"toc-item-num\">1.0.0.1&nbsp;&nbsp;</span>Import all the libraries that are necessary</a></span></li></ul></li></ul></li></ul></li><li><span><a href=\"#Challenge-1\" data-toc-modified-id=\"Challenge-1-2\"><span class=\"toc-item-num\">2&nbsp;&nbsp;</span>Challenge 1</a></span><ul class=\"toc-item\"><li><ul class=\"toc-item\"><li><ul class=\"toc-item\"><li><span><a href=\"#In-this-challenge-we-will-use-the-Temp_States.csv-file.\" data-toc-modified-id=\"In-this-challenge-we-will-use-the-Temp_States.csv-file.-2.0.0.1\"><span class=\"toc-item-num\">2.0.0.1&nbsp;&nbsp;</span>In this challenge we will use the <code>Temp_States.csv</code> file.</a></span></li><li><span><a href=\"#First-import-it-into-a-data-frame-called-temp.\" data-toc-modified-id=\"First-import-it-into-a-data-frame-called-temp.-2.0.0.2\"><span class=\"toc-item-num\">2.0.0.2&nbsp;&nbsp;</span>First import it into a data frame called <code>temp</code>.</a></span></li><li><span><a href=\"#Print-temp\" data-toc-modified-id=\"Print-temp-2.0.0.3\"><span class=\"toc-item-num\">2.0.0.3&nbsp;&nbsp;</span>Print <code>temp</code></a></span></li><li><span><a href=\"#Explore-the-data-types-of-the-Temp-dataframe.-What-type-of-data-do-we-have?-Comment-your-result.\" data-toc-modified-id=\"Explore-the-data-types-of-the-Temp-dataframe.-What-type-of-data-do-we-have?-Comment-your-result.-2.0.0.4\"><span class=\"toc-item-num\">2.0.0.4&nbsp;&nbsp;</span>Explore the data types of the Temp dataframe. What type of data do we have? Comment your result.</a></span></li><li><span><a href=\"#Select-the-rows-where-state-is-New-York\" data-toc-modified-id=\"Select-the-rows-where-state-is-New-York-2.0.0.5\"><span class=\"toc-item-num\">2.0.0.5&nbsp;&nbsp;</span>Select the rows where state is New York</a></span></li><li><span><a href=\"#What-is-the-average-of-the-temperature-of-cities-in-New-York?\" data-toc-modified-id=\"What-is-the-average-of-the-temperature-of-cities-in-New-York?-2.0.0.6\"><span class=\"toc-item-num\">2.0.0.6&nbsp;&nbsp;</span>What is the average of the temperature of cities in New York?</a></span></li><li><span><a href=\"#We-want-to-know-cities-and-states-with-Temperature-above-15-degress-Celcius\" data-toc-modified-id=\"We-want-to-know-cities-and-states-with-Temperature-above-15-degress-Celcius-2.0.0.7\"><span class=\"toc-item-num\">2.0.0.7&nbsp;&nbsp;</span>We want to know cities and states with Temperature above 15 degress Celcius</a></span></li><li><span><a href=\"#Now,-return-only-the-cities-that-have-a-temperature-above-15-degress-Celcius\" data-toc-modified-id=\"Now,-return-only-the-cities-that-have-a-temperature-above-15-degress-Celcius-2.0.0.8\"><span class=\"toc-item-num\">2.0.0.8&nbsp;&nbsp;</span>Now, return only the cities that have a temperature above 15 degress Celcius</a></span></li><li><span><a href=\"#We-want-to-know-which-cities-have-a-temperature-above-15-degrees-Celcius-and-below-20-degrees-Celcius\" data-toc-modified-id=\"We-want-to-know-which-cities-have-a-temperature-above-15-degrees-Celcius-and-below-20-degrees-Celcius-2.0.0.9\"><span class=\"toc-item-num\">2.0.0.9&nbsp;&nbsp;</span>We want to know which cities have a temperature above 15 degrees Celcius and below 20 degrees Celcius</a></span></li><li><span><a href=\"#Find-the-mean-and-the-standard-deviation-of-the-temperature-of-each-state.\" data-toc-modified-id=\"Find-the-mean-and-the-standard-deviation-of-the-temperature-of-each-state.-2.0.0.10\"><span class=\"toc-item-num\">2.0.0.10&nbsp;&nbsp;</span>Find the mean and the standard deviation of the temperature of each state.</a></span></li></ul></li></ul></li></ul></li><li><span><a href=\"#Challenge-2\" data-toc-modified-id=\"Challenge-2-3\"><span class=\"toc-item-num\">3&nbsp;&nbsp;</span>Challenge 2</a></span><ul class=\"toc-item\"><li><ul class=\"toc-item\"><li><ul class=\"toc-item\"><li><span><a href=\"#Load-the-employee.csv-file-into-a-DataFrame.-Call-the-dataframe-employee\" data-toc-modified-id=\"Load-the-employee.csv-file-into-a-DataFrame.-Call-the-dataframe-employee-3.0.0.1\"><span class=\"toc-item-num\">3.0.0.1&nbsp;&nbsp;</span>Load the <code>employee.csv</code> file into a DataFrame. Call the dataframe <code>employee</code></a></span></li><li><span><a href=\"#Explore-the-data-types-of-the-Temp-dataframe.-Comment-your-results\" data-toc-modified-id=\"Explore-the-data-types-of-the-Temp-dataframe.-Comment-your-results-3.0.0.2\"><span class=\"toc-item-num\">3.0.0.2&nbsp;&nbsp;</span>Explore the data types of the Temp dataframe. Comment your results</a></span></li><li><span><a href=\"#Show-visually-the-frequency-distribution-(histogram)-of-the-employee-dataset.-In-few-words-describe-these-histograms?\" data-toc-modified-id=\"Show-visually-the-frequency-distribution-(histogram)-of-the-employee-dataset.-In-few-words-describe-these-histograms?-3.0.0.3\"><span class=\"toc-item-num\">3.0.0.3&nbsp;&nbsp;</span>Show visually the frequency distribution (histogram) of the employee dataset. In few words describe these histograms?</a></span></li><li><span><a href=\"#What's-the-average-salary-in-this-company?\" data-toc-modified-id=\"What's-the-average-salary-in-this-company?-3.0.0.4\"><span class=\"toc-item-num\">3.0.0.4&nbsp;&nbsp;</span>What's the average salary in this company?</a></span></li><li><span><a href=\"#What's-the-highest-salary?\" data-toc-modified-id=\"What's-the-highest-salary?-3.0.0.5\"><span class=\"toc-item-num\">3.0.0.5&nbsp;&nbsp;</span>What's the highest salary?</a></span></li><li><span><a href=\"#What's-the-lowest-salary?\" data-toc-modified-id=\"What's-the-lowest-salary?-3.0.0.6\"><span class=\"toc-item-num\">3.0.0.6&nbsp;&nbsp;</span>What's the lowest salary?</a></span></li><li><span><a href=\"#Who-are-the-employees-with-the-lowest-salary?\" data-toc-modified-id=\"Who-are-the-employees-with-the-lowest-salary?-3.0.0.7\"><span class=\"toc-item-num\">3.0.0.7&nbsp;&nbsp;</span>Who are the employees with the lowest salary?</a></span></li><li><span><a href=\"#Could-you-give-all-the-information-about-an-employee-called-David?\" data-toc-modified-id=\"Could-you-give-all-the-information-about-an-employee-called-David?-3.0.0.8\"><span class=\"toc-item-num\">3.0.0.8&nbsp;&nbsp;</span>Could you give all the information about an employee called David?</a></span></li><li><span><a href=\"#Could-you-give-only-David's-salary?\" data-toc-modified-id=\"Could-you-give-only-David's-salary?-3.0.0.9\"><span class=\"toc-item-num\">3.0.0.9&nbsp;&nbsp;</span>Could you give only David's salary?</a></span></li><li><span><a href=\"#Print-all-the-rows-where-job-title-is-associate\" data-toc-modified-id=\"Print-all-the-rows-where-job-title-is-associate-3.0.0.10\"><span class=\"toc-item-num\">3.0.0.10&nbsp;&nbsp;</span>Print all the rows where job title is associate</a></span></li><li><span><a href=\"#Print-the-first-3-rows-of-your-dataframe\" data-toc-modified-id=\"Print-the-first-3-rows-of-your-dataframe-3.0.0.11\"><span class=\"toc-item-num\">3.0.0.11&nbsp;&nbsp;</span>Print the first 3 rows of your dataframe</a></span></li><li><span><a href=\"#Find-the-employees-who's-title-is-associate-and-the-salary-above-55?\" data-toc-modified-id=\"Find-the-employees-who's-title-is-associate-and-the-salary-above-55?-3.0.0.12\"><span class=\"toc-item-num\">3.0.0.12&nbsp;&nbsp;</span>Find the employees who's title is associate and the salary above 55?</a></span></li><li><span><a href=\"#Group-the-employees-based-on-their-number-of-years-of-employment.-What-are-the-average-salaries-in-each-group?\" data-toc-modified-id=\"Group-the-employees-based-on-their-number-of-years-of-employment.-What-are-the-average-salaries-in-each-group?-3.0.0.13\"><span class=\"toc-item-num\">3.0.0.13&nbsp;&nbsp;</span>Group the employees based on their number of years of employment. What are the average salaries in each group?</a></span></li><li><span><a href=\"#What-is-the-average-Salary-per-title?\" data-toc-modified-id=\"What-is-the-average-Salary-per-title?-3.0.0.14\"><span class=\"toc-item-num\">3.0.0.14&nbsp;&nbsp;</span>What is the average Salary per title?</a></span></li><li><span><a href=\"#Show-a-visual-summary-of-the-data-using-boxplot.-What-Are-the-First-and-Third-Quartiles?-Comment-your-results.\" data-toc-modified-id=\"Show-a-visual-summary-of-the-data-using-boxplot.-What-Are-the-First-and-Third-Quartiles?-Comment-your-results.-3.0.0.15\"><span class=\"toc-item-num\">3.0.0.15&nbsp;&nbsp;</span>Show a visual summary of the data using boxplot. What Are the First and Third Quartiles? Comment your results.</a></span></li><li><span><a href=\"#Is-the-mean-salary-per-gender-different?\" data-toc-modified-id=\"Is-the-mean-salary-per-gender-different?-3.0.0.16\"><span class=\"toc-item-num\">3.0.0.16&nbsp;&nbsp;</span>Is the mean salary per gender different?</a></span></li><li><span><a href=\"#Find-the-minimum,-mean-and-the-maximum-of-all-numeric-columns-for-each-Department.\" data-toc-modified-id=\"Find-the-minimum,-mean-and-the-maximum-of-all-numeric-columns-for-each-Department.-3.0.0.17\"><span class=\"toc-item-num\">3.0.0.17&nbsp;&nbsp;</span>Find the minimum, mean and the maximum of all numeric columns for each Department.</a></span></li></ul></li><li><span><a href=\"#Bonus-Question\" data-toc-modified-id=\"Bonus-Question-3.0.1\"><span class=\"toc-item-num\">3.0.1&nbsp;&nbsp;</span>Bonus Question</a></span><ul class=\"toc-item\"><li><span><a href=\"#For-each-department,-compute-the-difference-between-the-maximal-salary-and-the-minimal-salary.\" data-toc-modified-id=\"For-each-department,-compute-the-difference-between-the-maximal-salary-and-the-minimal-salary.-3.0.1.1\"><span class=\"toc-item-num\">3.0.1.1&nbsp;&nbsp;</span>For each department, compute the difference between the maximal salary and the minimal salary.</a></span></li></ul></li></ul></li></ul></li><li><span><a href=\"#Challenge-3\" data-toc-modified-id=\"Challenge-3-4\"><span class=\"toc-item-num\">4&nbsp;&nbsp;</span>Challenge 3</a></span><ul class=\"toc-item\"><li><ul class=\"toc-item\"><li><ul class=\"toc-item\"><li><span><a href=\"#Open-the-Orders.csv-dataset.-Name-your-dataset-orders\" data-toc-modified-id=\"Open-the-Orders.csv-dataset.-Name-your-dataset-orders-4.0.0.1\"><span class=\"toc-item-num\">4.0.0.1&nbsp;&nbsp;</span>Open the Orders.csv dataset. Name your dataset orders</a></span></li><li><span><a href=\"#Explore-your-dataset-by-looking-at-the-data-types-and-the-summary-statistics.-Comment-your-results\" data-toc-modified-id=\"Explore-your-dataset-by-looking-at-the-data-types-and-the-summary-statistics.-Comment-your-results-4.0.0.2\"><span class=\"toc-item-num\">4.0.0.2&nbsp;&nbsp;</span>Explore your dataset by looking at the data types and the summary statistics. Comment your results</a></span></li><li><span><a href=\"#What-is-the-average-Purchase-Price?\" data-toc-modified-id=\"What-is-the-average-Purchase-Price?-4.0.0.3\"><span class=\"toc-item-num\">4.0.0.3&nbsp;&nbsp;</span>What is the average Purchase Price?</a></span></li><li><span><a href=\"#What-were-the-highest-and-lowest-purchase-prices?\" data-toc-modified-id=\"What-were-the-highest-and-lowest-purchase-prices?-4.0.0.4\"><span class=\"toc-item-num\">4.0.0.4&nbsp;&nbsp;</span>What were the highest and lowest purchase prices?</a></span></li><li><span><a href=\"#Select-all-the-customers-we-have-in-Spain\" data-toc-modified-id=\"Select-all-the-customers-we-have-in-Spain-4.0.0.5\"><span class=\"toc-item-num\">4.0.0.5&nbsp;&nbsp;</span>Select all the customers we have in Spain</a></span></li><li><span><a href=\"#How-many-customers-do-we-have-in-Spain?\" data-toc-modified-id=\"How-many-customers-do-we-have-in-Spain?-4.0.0.6\"><span class=\"toc-item-num\">4.0.0.6&nbsp;&nbsp;</span>How many customers do we have in Spain?</a></span></li><li><span><a href=\"#Select-all-the-customers-who-have-bought-more-than-50-items-?\" data-toc-modified-id=\"Select-all-the-customers-who-have-bought-more-than-50-items-?-4.0.0.7\"><span class=\"toc-item-num\">4.0.0.7&nbsp;&nbsp;</span>Select all the customers who have bought more than 50 items ?</a></span></li><li><span><a href=\"#Select-orders-from-Spain-that-are-above-50-items\" data-toc-modified-id=\"Select-orders-from-Spain-that-are-above-50-items-4.0.0.8\"><span class=\"toc-item-num\">4.0.0.8&nbsp;&nbsp;</span>Select orders from Spain that are above 50 items</a></span></li><li><span><a href=\"#Select-all-free-orders\" data-toc-modified-id=\"Select-all-free-orders-4.0.0.9\"><span class=\"toc-item-num\">4.0.0.9&nbsp;&nbsp;</span>Select all free orders</a></span></li><li><span><a href=\"#Select-all-orders-that-are-'lunch-bag'\" data-toc-modified-id=\"Select-all-orders-that-are-'lunch-bag'-4.0.0.10\"><span class=\"toc-item-num\">4.0.0.10&nbsp;&nbsp;</span>Select all orders that are 'lunch bag'</a></span></li><li><span><a href=\"#Select-all-orders-that-are-made-in-2011-and-are-'lunch-bag'\" data-toc-modified-id=\"Select-all-orders-that-are-made-in-2011-and-are-'lunch-bag'-4.0.0.11\"><span class=\"toc-item-num\">4.0.0.11&nbsp;&nbsp;</span>Select all orders that are made in 2011 and are 'lunch bag'</a></span></li><li><span><a href=\"#Show-the-frequency-distribution-of-the-amount-spent-in-Spain.\" data-toc-modified-id=\"Show-the-frequency-distribution-of-the-amount-spent-in-Spain.-4.0.0.12\"><span class=\"toc-item-num\">4.0.0.12&nbsp;&nbsp;</span>Show the frequency distribution of the amount spent in Spain.</a></span></li><li><span><a href=\"#Select-all-orders-made-in-the-month-of-August\" data-toc-modified-id=\"Select-all-orders-made-in-the-month-of-August-4.0.0.13\"><span class=\"toc-item-num\">4.0.0.13&nbsp;&nbsp;</span>Select all orders made in the month of August</a></span></li><li><span><a href=\"#Select-how-many-orders-are-made-by-countries-in-the-month-of-August\" data-toc-modified-id=\"Select-how-many-orders-are-made-by-countries-in-the-month-of-August-4.0.0.14\"><span class=\"toc-item-num\">4.0.0.14&nbsp;&nbsp;</span>Select how many orders are made by countries in the month of August</a></span></li><li><span><a href=\"#What's-the--average-amount-of-money-spent-by-country\" data-toc-modified-id=\"What's-the--average-amount-of-money-spent-by-country-4.0.0.15\"><span class=\"toc-item-num\">4.0.0.15&nbsp;&nbsp;</span>What's the  average amount of money spent by country</a></span></li><li><span><a href=\"#What's-the-most-expensive-item?\" data-toc-modified-id=\"What's-the-most-expensive-item?-4.0.0.16\"><span class=\"toc-item-num\">4.0.0.16&nbsp;&nbsp;</span>What's the most expensive item?</a></span></li><li><span><a href=\"#What-was-the-average-amount-spent-per-year-?\" data-toc-modified-id=\"What-was-the-average-amount-spent-per-year-?-4.0.0.17\"><span class=\"toc-item-num\">4.0.0.17&nbsp;&nbsp;</span>What was the average amount spent per year ?</a></span></li></ul></li></ul></li></ul></li></ul></div>"
   ]
  },
  {
   "cell_type": "markdown",
   "metadata": {},
   "source": [
    "# Before you start :\n",
    "   - These exercises are related to the Subsetting and Descriptive Stats lessons.\n",
    "   - Keep in mind that you need to use some of the functions you learned in the previous lessons.\n",
    "   - All datasets are provided in the `your-code` folder of this lab.\n",
    "   - Elaborate your codes and outputs as much as you can.\n",
    "   - Try your best to answer the questions and complete the tasks and most importantly enjoy the process!!!"
   ]
  },
  {
   "cell_type": "markdown",
   "metadata": {},
   "source": [
    "#### Import all the libraries that are necessary"
   ]
  },
  {
   "cell_type": "code",
   "execution_count": 1,
   "metadata": {
    "ExecuteTime": {
     "end_time": "2019-07-17T12:57:14.546122Z",
     "start_time": "2019-07-17T12:57:14.543607Z"
    }
   },
   "outputs": [],
   "source": [
    "# import libraries here\n",
    "import pandas as pd\n",
    "import numpy as np"
   ]
  },
  {
   "cell_type": "markdown",
   "metadata": {},
   "source": [
    "# Challenge 1"
   ]
  },
  {
   "cell_type": "markdown",
   "metadata": {},
   "source": [
    "#### In this challenge we will use the `Temp_States.csv` file. \n",
    "\n",
    "#### First import it into a data frame called `temp`."
   ]
  },
  {
   "cell_type": "code",
   "execution_count": 2,
   "metadata": {
    "ExecuteTime": {
     "end_time": "2019-07-17T12:57:15.901094Z",
     "start_time": "2019-07-17T12:57:15.898997Z"
    }
   },
   "outputs": [],
   "source": [
    "# your answer here\n",
    "temp = pd.read_csv('Temp_States.csv')"
   ]
  },
  {
   "cell_type": "markdown",
   "metadata": {},
   "source": [
    "#### Print `temp`"
   ]
  },
  {
   "cell_type": "code",
   "execution_count": 3,
   "metadata": {},
   "outputs": [
    {
     "data": {
      "text/html": [
       "<div>\n",
       "<style scoped>\n",
       "    .dataframe tbody tr th:only-of-type {\n",
       "        vertical-align: middle;\n",
       "    }\n",
       "\n",
       "    .dataframe tbody tr th {\n",
       "        vertical-align: top;\n",
       "    }\n",
       "\n",
       "    .dataframe thead th {\n",
       "        text-align: right;\n",
       "    }\n",
       "</style>\n",
       "<table border=\"1\" class=\"dataframe\">\n",
       "  <thead>\n",
       "    <tr style=\"text-align: right;\">\n",
       "      <th></th>\n",
       "      <th>City</th>\n",
       "      <th>State</th>\n",
       "      <th>Temperature</th>\n",
       "    </tr>\n",
       "  </thead>\n",
       "  <tbody>\n",
       "    <tr>\n",
       "      <th>0</th>\n",
       "      <td>NYC</td>\n",
       "      <td>New York</td>\n",
       "      <td>19.444444</td>\n",
       "    </tr>\n",
       "    <tr>\n",
       "      <th>1</th>\n",
       "      <td>Albany</td>\n",
       "      <td>New York</td>\n",
       "      <td>9.444444</td>\n",
       "    </tr>\n",
       "    <tr>\n",
       "      <th>2</th>\n",
       "      <td>Buffalo</td>\n",
       "      <td>New York</td>\n",
       "      <td>3.333333</td>\n",
       "    </tr>\n",
       "    <tr>\n",
       "      <th>3</th>\n",
       "      <td>Hartford</td>\n",
       "      <td>Connecticut</td>\n",
       "      <td>17.222222</td>\n",
       "    </tr>\n",
       "    <tr>\n",
       "      <th>4</th>\n",
       "      <td>Bridgeport</td>\n",
       "      <td>Connecticut</td>\n",
       "      <td>14.444444</td>\n",
       "    </tr>\n",
       "    <tr>\n",
       "      <th>5</th>\n",
       "      <td>Treton</td>\n",
       "      <td>New Jersey</td>\n",
       "      <td>22.222222</td>\n",
       "    </tr>\n",
       "    <tr>\n",
       "      <th>6</th>\n",
       "      <td>Newark</td>\n",
       "      <td>New Jersey</td>\n",
       "      <td>20.000000</td>\n",
       "    </tr>\n",
       "  </tbody>\n",
       "</table>\n",
       "</div>"
      ],
      "text/plain": [
       "         City        State  Temperature\n",
       "0         NYC     New York    19.444444\n",
       "1      Albany     New York     9.444444\n",
       "2     Buffalo     New York     3.333333\n",
       "3    Hartford  Connecticut    17.222222\n",
       "4  Bridgeport  Connecticut    14.444444\n",
       "5      Treton   New Jersey    22.222222\n",
       "6      Newark   New Jersey    20.000000"
      ]
     },
     "metadata": {},
     "output_type": "display_data"
    }
   ],
   "source": [
    "display(temp)"
   ]
  },
  {
   "cell_type": "markdown",
   "metadata": {},
   "source": [
    "#### Explore the data types of the Temp dataframe. What type of data do we have? Comment your result."
   ]
  },
  {
   "cell_type": "code",
   "execution_count": 4,
   "metadata": {
    "ExecuteTime": {
     "end_time": "2019-07-17T12:57:17.269875Z",
     "start_time": "2019-07-17T12:57:17.267412Z"
    }
   },
   "outputs": [],
   "source": [
    "# your answer here\n",
    "# There are cities, states and temperatures in >C"
   ]
  },
  {
   "cell_type": "markdown",
   "metadata": {},
   "source": [
    "#### Select the rows where state is New York"
   ]
  },
  {
   "cell_type": "code",
   "execution_count": 5,
   "metadata": {
    "ExecuteTime": {
     "end_time": "2019-07-17T12:57:17.946288Z",
     "start_time": "2019-07-17T12:57:17.942748Z"
    }
   },
   "outputs": [
    {
     "data": {
      "text/html": [
       "<div>\n",
       "<style scoped>\n",
       "    .dataframe tbody tr th:only-of-type {\n",
       "        vertical-align: middle;\n",
       "    }\n",
       "\n",
       "    .dataframe tbody tr th {\n",
       "        vertical-align: top;\n",
       "    }\n",
       "\n",
       "    .dataframe thead th {\n",
       "        text-align: right;\n",
       "    }\n",
       "</style>\n",
       "<table border=\"1\" class=\"dataframe\">\n",
       "  <thead>\n",
       "    <tr style=\"text-align: right;\">\n",
       "      <th></th>\n",
       "      <th>City</th>\n",
       "      <th>State</th>\n",
       "      <th>Temperature</th>\n",
       "    </tr>\n",
       "  </thead>\n",
       "  <tbody>\n",
       "    <tr>\n",
       "      <th>0</th>\n",
       "      <td>NYC</td>\n",
       "      <td>New York</td>\n",
       "      <td>19.444444</td>\n",
       "    </tr>\n",
       "    <tr>\n",
       "      <th>1</th>\n",
       "      <td>Albany</td>\n",
       "      <td>New York</td>\n",
       "      <td>9.444444</td>\n",
       "    </tr>\n",
       "    <tr>\n",
       "      <th>2</th>\n",
       "      <td>Buffalo</td>\n",
       "      <td>New York</td>\n",
       "      <td>3.333333</td>\n",
       "    </tr>\n",
       "  </tbody>\n",
       "</table>\n",
       "</div>"
      ],
      "text/plain": [
       "      City     State  Temperature\n",
       "0      NYC  New York    19.444444\n",
       "1   Albany  New York     9.444444\n",
       "2  Buffalo  New York     3.333333"
      ]
     },
     "execution_count": 5,
     "metadata": {},
     "output_type": "execute_result"
    }
   ],
   "source": [
    "# your answer here\n",
    "temp[temp['State'] == 'New York']"
   ]
  },
  {
   "cell_type": "markdown",
   "metadata": {},
   "source": [
    "#### What is the average of the temperature of cities in New York?"
   ]
  },
  {
   "cell_type": "code",
   "execution_count": 6,
   "metadata": {
    "ExecuteTime": {
     "end_time": "2019-07-17T12:57:18.621581Z",
     "start_time": "2019-07-17T12:57:18.619412Z"
    }
   },
   "outputs": [
    {
     "name": "stdout",
     "output_type": "stream",
     "text": [
      "The avergare temperature of the cities in New York is 10.74074074074074 degrees Celcius\n"
     ]
    }
   ],
   "source": [
    "# your answer here\n",
    "avg_temp = list(temp[temp['State'] == 'New York'].mean())\n",
    "print(f'The avergare temperature of the cities in New York is {avg_temp[0]} degrees Celcius')"
   ]
  },
  {
   "cell_type": "markdown",
   "metadata": {},
   "source": [
    "#### We want to know cities and states with Temperature above 15 degress Celcius"
   ]
  },
  {
   "cell_type": "code",
   "execution_count": 7,
   "metadata": {
    "ExecuteTime": {
     "end_time": "2019-07-17T12:57:19.307022Z",
     "start_time": "2019-07-17T12:57:19.304790Z"
    }
   },
   "outputs": [
    {
     "data": {
      "text/html": [
       "<div>\n",
       "<style scoped>\n",
       "    .dataframe tbody tr th:only-of-type {\n",
       "        vertical-align: middle;\n",
       "    }\n",
       "\n",
       "    .dataframe tbody tr th {\n",
       "        vertical-align: top;\n",
       "    }\n",
       "\n",
       "    .dataframe thead th {\n",
       "        text-align: right;\n",
       "    }\n",
       "</style>\n",
       "<table border=\"1\" class=\"dataframe\">\n",
       "  <thead>\n",
       "    <tr style=\"text-align: right;\">\n",
       "      <th></th>\n",
       "      <th>City</th>\n",
       "      <th>State</th>\n",
       "      <th>Temperature</th>\n",
       "    </tr>\n",
       "  </thead>\n",
       "  <tbody>\n",
       "    <tr>\n",
       "      <th>0</th>\n",
       "      <td>NYC</td>\n",
       "      <td>New York</td>\n",
       "      <td>19.444444</td>\n",
       "    </tr>\n",
       "    <tr>\n",
       "      <th>3</th>\n",
       "      <td>Hartford</td>\n",
       "      <td>Connecticut</td>\n",
       "      <td>17.222222</td>\n",
       "    </tr>\n",
       "    <tr>\n",
       "      <th>5</th>\n",
       "      <td>Treton</td>\n",
       "      <td>New Jersey</td>\n",
       "      <td>22.222222</td>\n",
       "    </tr>\n",
       "    <tr>\n",
       "      <th>6</th>\n",
       "      <td>Newark</td>\n",
       "      <td>New Jersey</td>\n",
       "      <td>20.000000</td>\n",
       "    </tr>\n",
       "  </tbody>\n",
       "</table>\n",
       "</div>"
      ],
      "text/plain": [
       "       City        State  Temperature\n",
       "0       NYC     New York    19.444444\n",
       "3  Hartford  Connecticut    17.222222\n",
       "5    Treton   New Jersey    22.222222\n",
       "6    Newark   New Jersey    20.000000"
      ]
     },
     "execution_count": 7,
     "metadata": {},
     "output_type": "execute_result"
    }
   ],
   "source": [
    "# your answer here\n",
    "temp[temp['Temperature'] > 15]"
   ]
  },
  {
   "cell_type": "markdown",
   "metadata": {},
   "source": [
    "#### Now, return only the cities that have a temperature above 15 degress Celcius"
   ]
  },
  {
   "cell_type": "code",
   "execution_count": 8,
   "metadata": {
    "ExecuteTime": {
     "end_time": "2019-07-17T12:57:20.002169Z",
     "start_time": "2019-07-17T12:57:19.999815Z"
    }
   },
   "outputs": [
    {
     "data": {
      "text/plain": [
       "['NYC', 'Hartford', 'Treton', 'Newark']"
      ]
     },
     "execution_count": 8,
     "metadata": {},
     "output_type": "execute_result"
    }
   ],
   "source": [
    "# your answer here\n",
    "list(temp[temp['Temperature'] > 15].City)"
   ]
  },
  {
   "cell_type": "markdown",
   "metadata": {},
   "source": [
    "#### We want to know which cities have a temperature above 15 degrees Celcius and below 20 degrees Celcius\n",
    "\n",
    "*Hint: First write the condition then select the rows.*"
   ]
  },
  {
   "cell_type": "code",
   "execution_count": 9,
   "metadata": {
    "ExecuteTime": {
     "end_time": "2019-07-17T12:57:20.687253Z",
     "start_time": "2019-07-17T12:57:20.684712Z"
    }
   },
   "outputs": [
    {
     "data": {
      "text/plain": [
       "['NYC', 'Hartford']"
      ]
     },
     "execution_count": 9,
     "metadata": {},
     "output_type": "execute_result"
    }
   ],
   "source": [
    "# your answer here\n",
    "list(temp[(temp['Temperature'] > 15) & (temp['Temperature'] < 20)].City)"
   ]
  },
  {
   "cell_type": "markdown",
   "metadata": {},
   "source": [
    "#### Find the mean and the standard deviation of the temperature of each state.\n",
    "\n",
    "*Hint: Use functions from Data Manipulation lesson*"
   ]
  },
  {
   "cell_type": "code",
   "execution_count": 10,
   "metadata": {
    "ExecuteTime": {
     "end_time": "2019-07-17T12:57:21.376317Z",
     "start_time": "2019-07-17T12:57:21.374207Z"
    }
   },
   "outputs": [
    {
     "data": {
      "text/html": [
       "<div>\n",
       "<style scoped>\n",
       "    .dataframe tbody tr th:only-of-type {\n",
       "        vertical-align: middle;\n",
       "    }\n",
       "\n",
       "    .dataframe tbody tr th {\n",
       "        vertical-align: top;\n",
       "    }\n",
       "\n",
       "    .dataframe thead tr th {\n",
       "        text-align: left;\n",
       "    }\n",
       "\n",
       "    .dataframe thead tr:last-of-type th {\n",
       "        text-align: right;\n",
       "    }\n",
       "</style>\n",
       "<table border=\"1\" class=\"dataframe\">\n",
       "  <thead>\n",
       "    <tr>\n",
       "      <th></th>\n",
       "      <th colspan=\"2\" halign=\"left\">Temperature</th>\n",
       "    </tr>\n",
       "    <tr>\n",
       "      <th></th>\n",
       "      <th>mean</th>\n",
       "      <th>std</th>\n",
       "    </tr>\n",
       "    <tr>\n",
       "      <th>State</th>\n",
       "      <th></th>\n",
       "      <th></th>\n",
       "    </tr>\n",
       "  </thead>\n",
       "  <tbody>\n",
       "    <tr>\n",
       "      <th>Connecticut</th>\n",
       "      <td>15.833333</td>\n",
       "      <td>1.964186</td>\n",
       "    </tr>\n",
       "    <tr>\n",
       "      <th>New Jersey</th>\n",
       "      <td>21.111111</td>\n",
       "      <td>1.571348</td>\n",
       "    </tr>\n",
       "    <tr>\n",
       "      <th>New York</th>\n",
       "      <td>10.740741</td>\n",
       "      <td>8.133404</td>\n",
       "    </tr>\n",
       "  </tbody>\n",
       "</table>\n",
       "</div>"
      ],
      "text/plain": [
       "            Temperature          \n",
       "                   mean       std\n",
       "State                            \n",
       "Connecticut   15.833333  1.964186\n",
       "New Jersey    21.111111  1.571348\n",
       "New York      10.740741  8.133404"
      ]
     },
     "execution_count": 10,
     "metadata": {},
     "output_type": "execute_result"
    }
   ],
   "source": [
    "# your answer here\n",
    "\n",
    "# The describe gives a multicolumn\n",
    "temp.groupby('State').describe()[[('Temperature',  'mean'), ('Temperature',   'std')]]"
   ]
  },
  {
   "cell_type": "markdown",
   "metadata": {
    "collapsed": true
   },
   "source": [
    "# Challenge 2"
   ]
  },
  {
   "cell_type": "markdown",
   "metadata": {},
   "source": [
    "#### Load the `employee.csv` file into a DataFrame. Call the dataframe `employee`"
   ]
  },
  {
   "cell_type": "code",
   "execution_count": 11,
   "metadata": {
    "ExecuteTime": {
     "end_time": "2019-07-17T12:57:22.743955Z",
     "start_time": "2019-07-17T12:57:22.741303Z"
    }
   },
   "outputs": [],
   "source": [
    "# your answer here\n",
    "employee = pd.read_csv('employee.csv')"
   ]
  },
  {
   "cell_type": "markdown",
   "metadata": {},
   "source": [
    "#### Explore the data types of the Temp dataframe. Comment your results"
   ]
  },
  {
   "cell_type": "code",
   "execution_count": 12,
   "metadata": {
    "ExecuteTime": {
     "end_time": "2019-07-17T12:57:23.433003Z",
     "start_time": "2019-07-17T12:57:23.430312Z"
    }
   },
   "outputs": [],
   "source": [
    "# your answer here\n",
    "\n",
    "# There are two numeric variables: Years and Salary \n",
    "# and 5 categorical variables: Name, Department, Education, Gender and Title"
   ]
  },
  {
   "cell_type": "markdown",
   "metadata": {},
   "source": [
    "#### Show visually the frequency distribution (histogram) of the employee dataset. In few words describe these histograms?"
   ]
  },
  {
   "cell_type": "code",
   "execution_count": 13,
   "metadata": {
    "ExecuteTime": {
     "end_time": "2019-07-17T12:57:24.113255Z",
     "start_time": "2019-07-17T12:57:24.110882Z"
    }
   },
   "outputs": [
    {
     "data": {
      "text/plain": [
       "<AxesSubplot:ylabel='Frequency'>"
      ]
     },
     "execution_count": 13,
     "metadata": {},
     "output_type": "execute_result"
    },
    {
     "data": {
      "image/png": "[encoded data removed]",
      "text/plain": [
       "<Figure size 432x288 with 1 Axes>"
      ]
     },
     "metadata": {
      "needs_background": "light"
     },
     "output_type": "display_data"
    }
   ],
   "source": [
    "# your answer here\n",
    "employee.plot.hist()\n",
    "\n",
    "# There are more people with less than 10 years experience\n",
    "# There are two groups of people's salary: \n",
    "# - One around 30\n",
    "# - Another one between 50 and 70"
   ]
  },
  {
   "cell_type": "markdown",
   "metadata": {},
   "source": [
    "#### What's the average salary in this company?"
   ]
  },
  {
   "cell_type": "code",
   "execution_count": 14,
   "metadata": {
    "ExecuteTime": {
     "end_time": "2019-07-17T12:57:24.789499Z",
     "start_time": "2019-07-17T12:57:24.787253Z"
    }
   },
   "outputs": [
    {
     "data": {
      "text/plain": [
       "48.888888888888886"
      ]
     },
     "execution_count": 14,
     "metadata": {},
     "output_type": "execute_result"
    }
   ],
   "source": [
    "# your answer here\n",
    "\n",
    "employee.Salary.mean()"
   ]
  },
  {
   "cell_type": "markdown",
   "metadata": {},
   "source": [
    "#### What's the highest salary?"
   ]
  },
  {
   "cell_type": "code",
   "execution_count": 15,
   "metadata": {
    "ExecuteTime": {
     "end_time": "2019-07-17T12:57:25.476034Z",
     "start_time": "2019-07-17T12:57:25.473646Z"
    }
   },
   "outputs": [
    {
     "data": {
      "text/plain": [
       "70"
      ]
     },
     "execution_count": 15,
     "metadata": {},
     "output_type": "execute_result"
    }
   ],
   "source": [
    "# your answer here\n",
    "employee.Salary.max()"
   ]
  },
  {
   "cell_type": "markdown",
   "metadata": {},
   "source": [
    "#### What's the lowest salary?"
   ]
  },
  {
   "cell_type": "code",
   "execution_count": 16,
   "metadata": {
    "ExecuteTime": {
     "end_time": "2019-07-17T12:57:26.159005Z",
     "start_time": "2019-07-17T12:57:26.156683Z"
    }
   },
   "outputs": [
    {
     "data": {
      "text/plain": [
       "30"
      ]
     },
     "execution_count": 16,
     "metadata": {},
     "output_type": "execute_result"
    }
   ],
   "source": [
    "# your answer here\n",
    "employee.Salary.min()"
   ]
  },
  {
   "cell_type": "markdown",
   "metadata": {},
   "source": [
    "#### Who are the employees with the lowest salary?"
   ]
  },
  {
   "cell_type": "code",
   "execution_count": 17,
   "metadata": {
    "ExecuteTime": {
     "end_time": "2019-07-17T12:57:26.852039Z",
     "start_time": "2019-07-17T12:57:26.849695Z"
    }
   },
   "outputs": [
    {
     "data": {
      "text/html": [
       "<div>\n",
       "<style scoped>\n",
       "    .dataframe tbody tr th:only-of-type {\n",
       "        vertical-align: middle;\n",
       "    }\n",
       "\n",
       "    .dataframe tbody tr th {\n",
       "        vertical-align: top;\n",
       "    }\n",
       "\n",
       "    .dataframe thead th {\n",
       "        text-align: right;\n",
       "    }\n",
       "</style>\n",
       "<table border=\"1\" class=\"dataframe\">\n",
       "  <thead>\n",
       "    <tr style=\"text-align: right;\">\n",
       "      <th></th>\n",
       "      <th>Name</th>\n",
       "      <th>Department</th>\n",
       "      <th>Education</th>\n",
       "      <th>Gender</th>\n",
       "      <th>Title</th>\n",
       "      <th>Years</th>\n",
       "      <th>Salary</th>\n",
       "    </tr>\n",
       "  </thead>\n",
       "  <tbody>\n",
       "    <tr>\n",
       "      <th>1</th>\n",
       "      <td>Maria</td>\n",
       "      <td>IT</td>\n",
       "      <td>Master</td>\n",
       "      <td>F</td>\n",
       "      <td>analyst</td>\n",
       "      <td>2</td>\n",
       "      <td>30</td>\n",
       "    </tr>\n",
       "    <tr>\n",
       "      <th>2</th>\n",
       "      <td>David</td>\n",
       "      <td>HR</td>\n",
       "      <td>Master</td>\n",
       "      <td>M</td>\n",
       "      <td>analyst</td>\n",
       "      <td>2</td>\n",
       "      <td>30</td>\n",
       "    </tr>\n",
       "  </tbody>\n",
       "</table>\n",
       "</div>"
      ],
      "text/plain": [
       "    Name Department Education Gender    Title  Years  Salary\n",
       "1  Maria         IT    Master      F  analyst      2      30\n",
       "2  David         HR    Master      M  analyst      2      30"
      ]
     },
     "execution_count": 17,
     "metadata": {},
     "output_type": "execute_result"
    }
   ],
   "source": [
    "# your answer here\n",
    "employee[employee.Salary == employee.Salary.min()]"
   ]
  },
  {
   "cell_type": "markdown",
   "metadata": {},
   "source": [
    "#### Could you give all the information about an employee called David?"
   ]
  },
  {
   "cell_type": "code",
   "execution_count": 18,
   "metadata": {
    "ExecuteTime": {
     "end_time": "2019-07-17T12:57:27.541661Z",
     "start_time": "2019-07-17T12:57:27.539376Z"
    }
   },
   "outputs": [
    {
     "data": {
      "text/html": [
       "<div>\n",
       "<style scoped>\n",
       "    .dataframe tbody tr th:only-of-type {\n",
       "        vertical-align: middle;\n",
       "    }\n",
       "\n",
       "    .dataframe tbody tr th {\n",
       "        vertical-align: top;\n",
       "    }\n",
       "\n",
       "    .dataframe thead th {\n",
       "        text-align: right;\n",
       "    }\n",
       "</style>\n",
       "<table border=\"1\" class=\"dataframe\">\n",
       "  <thead>\n",
       "    <tr style=\"text-align: right;\">\n",
       "      <th></th>\n",
       "      <th>Name</th>\n",
       "      <th>Department</th>\n",
       "      <th>Education</th>\n",
       "      <th>Gender</th>\n",
       "      <th>Title</th>\n",
       "      <th>Years</th>\n",
       "      <th>Salary</th>\n",
       "    </tr>\n",
       "  </thead>\n",
       "  <tbody>\n",
       "    <tr>\n",
       "      <th>2</th>\n",
       "      <td>David</td>\n",
       "      <td>HR</td>\n",
       "      <td>Master</td>\n",
       "      <td>M</td>\n",
       "      <td>analyst</td>\n",
       "      <td>2</td>\n",
       "      <td>30</td>\n",
       "    </tr>\n",
       "  </tbody>\n",
       "</table>\n",
       "</div>"
      ],
      "text/plain": [
       "    Name Department Education Gender    Title  Years  Salary\n",
       "2  David         HR    Master      M  analyst      2      30"
      ]
     },
     "execution_count": 18,
     "metadata": {},
     "output_type": "execute_result"
    }
   ],
   "source": [
    "# your answer here\n",
    "employee[employee['Name'] == 'David']"
   ]
  },
  {
   "cell_type": "markdown",
   "metadata": {},
   "source": [
    "#### Could you give only David's salary?"
   ]
  },
  {
   "cell_type": "code",
   "execution_count": 19,
   "metadata": {
    "ExecuteTime": {
     "end_time": "2019-07-17T12:57:28.222686Z",
     "start_time": "2019-07-17T12:57:28.220320Z"
    }
   },
   "outputs": [
    {
     "data": {
      "text/plain": [
       "2    30\n",
       "Name: Salary, dtype: int64"
      ]
     },
     "execution_count": 19,
     "metadata": {},
     "output_type": "execute_result"
    }
   ],
   "source": [
    "# your answer here\n",
    "employee[employee['Name'] == 'David'].Salary"
   ]
  },
  {
   "cell_type": "markdown",
   "metadata": {},
   "source": [
    "#### Print all the rows where job title is associate"
   ]
  },
  {
   "cell_type": "code",
   "execution_count": 20,
   "metadata": {
    "ExecuteTime": {
     "end_time": "2019-07-17T12:57:28.903653Z",
     "start_time": "2019-07-17T12:57:28.901306Z"
    }
   },
   "outputs": [
    {
     "data": {
      "text/html": [
       "<div>\n",
       "<style scoped>\n",
       "    .dataframe tbody tr th:only-of-type {\n",
       "        vertical-align: middle;\n",
       "    }\n",
       "\n",
       "    .dataframe tbody tr th {\n",
       "        vertical-align: top;\n",
       "    }\n",
       "\n",
       "    .dataframe thead th {\n",
       "        text-align: right;\n",
       "    }\n",
       "</style>\n",
       "<table border=\"1\" class=\"dataframe\">\n",
       "  <thead>\n",
       "    <tr style=\"text-align: right;\">\n",
       "      <th></th>\n",
       "      <th>Name</th>\n",
       "      <th>Department</th>\n",
       "      <th>Education</th>\n",
       "      <th>Gender</th>\n",
       "      <th>Title</th>\n",
       "      <th>Years</th>\n",
       "      <th>Salary</th>\n",
       "    </tr>\n",
       "  </thead>\n",
       "  <tbody>\n",
       "    <tr>\n",
       "      <th>4</th>\n",
       "      <td>Samuel</td>\n",
       "      <td>Sales</td>\n",
       "      <td>Master</td>\n",
       "      <td>M</td>\n",
       "      <td>associate</td>\n",
       "      <td>3</td>\n",
       "      <td>55</td>\n",
       "    </tr>\n",
       "    <tr>\n",
       "      <th>5</th>\n",
       "      <td>Eva</td>\n",
       "      <td>Sales</td>\n",
       "      <td>Bachelor</td>\n",
       "      <td>F</td>\n",
       "      <td>associate</td>\n",
       "      <td>2</td>\n",
       "      <td>55</td>\n",
       "    </tr>\n",
       "    <tr>\n",
       "      <th>7</th>\n",
       "      <td>Pedro</td>\n",
       "      <td>IT</td>\n",
       "      <td>Phd</td>\n",
       "      <td>M</td>\n",
       "      <td>associate</td>\n",
       "      <td>7</td>\n",
       "      <td>60</td>\n",
       "    </tr>\n",
       "  </tbody>\n",
       "</table>\n",
       "</div>"
      ],
      "text/plain": [
       "     Name Department Education Gender      Title  Years  Salary\n",
       "4  Samuel      Sales    Master      M  associate      3      55\n",
       "5     Eva      Sales  Bachelor      F  associate      2      55\n",
       "7   Pedro         IT       Phd      M  associate      7      60"
      ]
     },
     "execution_count": 20,
     "metadata": {},
     "output_type": "execute_result"
    }
   ],
   "source": [
    "# your answer here\n",
    "employee[employee['Title'] == 'associate']"
   ]
  },
  {
   "cell_type": "markdown",
   "metadata": {},
   "source": [
    "#### Print the first 3 rows of your dataframe\n",
    "\n",
    "Hint : There are 3 ways to do it. Do it all ways."
   ]
  },
  {
   "cell_type": "code",
   "execution_count": 21,
   "metadata": {
    "ExecuteTime": {
     "end_time": "2019-07-17T12:57:29.596756Z",
     "start_time": "2019-07-17T12:57:29.594563Z"
    }
   },
   "outputs": [
    {
     "data": {
      "text/html": [
       "<div>\n",
       "<style scoped>\n",
       "    .dataframe tbody tr th:only-of-type {\n",
       "        vertical-align: middle;\n",
       "    }\n",
       "\n",
       "    .dataframe tbody tr th {\n",
       "        vertical-align: top;\n",
       "    }\n",
       "\n",
       "    .dataframe thead th {\n",
       "        text-align: right;\n",
       "    }\n",
       "</style>\n",
       "<table border=\"1\" class=\"dataframe\">\n",
       "  <thead>\n",
       "    <tr style=\"text-align: right;\">\n",
       "      <th></th>\n",
       "      <th>Name</th>\n",
       "      <th>Department</th>\n",
       "      <th>Education</th>\n",
       "      <th>Gender</th>\n",
       "      <th>Title</th>\n",
       "      <th>Years</th>\n",
       "      <th>Salary</th>\n",
       "    </tr>\n",
       "  </thead>\n",
       "  <tbody>\n",
       "    <tr>\n",
       "      <th>0</th>\n",
       "      <td>Jose</td>\n",
       "      <td>IT</td>\n",
       "      <td>Bachelor</td>\n",
       "      <td>M</td>\n",
       "      <td>analyst</td>\n",
       "      <td>1</td>\n",
       "      <td>35</td>\n",
       "    </tr>\n",
       "    <tr>\n",
       "      <th>1</th>\n",
       "      <td>Maria</td>\n",
       "      <td>IT</td>\n",
       "      <td>Master</td>\n",
       "      <td>F</td>\n",
       "      <td>analyst</td>\n",
       "      <td>2</td>\n",
       "      <td>30</td>\n",
       "    </tr>\n",
       "    <tr>\n",
       "      <th>2</th>\n",
       "      <td>David</td>\n",
       "      <td>HR</td>\n",
       "      <td>Master</td>\n",
       "      <td>M</td>\n",
       "      <td>analyst</td>\n",
       "      <td>2</td>\n",
       "      <td>30</td>\n",
       "    </tr>\n",
       "  </tbody>\n",
       "</table>\n",
       "</div>"
      ],
      "text/plain": [
       "    Name Department Education Gender    Title  Years  Salary\n",
       "0   Jose         IT  Bachelor      M  analyst      1      35\n",
       "1  Maria         IT    Master      F  analyst      2      30\n",
       "2  David         HR    Master      M  analyst      2      30"
      ]
     },
     "execution_count": 21,
     "metadata": {},
     "output_type": "execute_result"
    }
   ],
   "source": [
    "# your answer here- 1 method\n",
    "employee.head(3)"
   ]
  },
  {
   "cell_type": "code",
   "execution_count": 22,
   "metadata": {
    "ExecuteTime": {
     "end_time": "2019-07-17T12:57:29.603270Z",
     "start_time": "2019-07-17T12:57:29.601148Z"
    }
   },
   "outputs": [
    {
     "data": {
      "text/html": [
       "<div>\n",
       "<style scoped>\n",
       "    .dataframe tbody tr th:only-of-type {\n",
       "        vertical-align: middle;\n",
       "    }\n",
       "\n",
       "    .dataframe tbody tr th {\n",
       "        vertical-align: top;\n",
       "    }\n",
       "\n",
       "    .dataframe thead th {\n",
       "        text-align: right;\n",
       "    }\n",
       "</style>\n",
       "<table border=\"1\" class=\"dataframe\">\n",
       "  <thead>\n",
       "    <tr style=\"text-align: right;\">\n",
       "      <th></th>\n",
       "      <th>Name</th>\n",
       "      <th>Department</th>\n",
       "      <th>Education</th>\n",
       "      <th>Gender</th>\n",
       "      <th>Title</th>\n",
       "      <th>Years</th>\n",
       "      <th>Salary</th>\n",
       "    </tr>\n",
       "  </thead>\n",
       "  <tbody>\n",
       "    <tr>\n",
       "      <th>0</th>\n",
       "      <td>Jose</td>\n",
       "      <td>IT</td>\n",
       "      <td>Bachelor</td>\n",
       "      <td>M</td>\n",
       "      <td>analyst</td>\n",
       "      <td>1</td>\n",
       "      <td>35</td>\n",
       "    </tr>\n",
       "    <tr>\n",
       "      <th>1</th>\n",
       "      <td>Maria</td>\n",
       "      <td>IT</td>\n",
       "      <td>Master</td>\n",
       "      <td>F</td>\n",
       "      <td>analyst</td>\n",
       "      <td>2</td>\n",
       "      <td>30</td>\n",
       "    </tr>\n",
       "    <tr>\n",
       "      <th>2</th>\n",
       "      <td>David</td>\n",
       "      <td>HR</td>\n",
       "      <td>Master</td>\n",
       "      <td>M</td>\n",
       "      <td>analyst</td>\n",
       "      <td>2</td>\n",
       "      <td>30</td>\n",
       "    </tr>\n",
       "  </tbody>\n",
       "</table>\n",
       "</div>"
      ],
      "text/plain": [
       "    Name Department Education Gender    Title  Years  Salary\n",
       "0   Jose         IT  Bachelor      M  analyst      1      35\n",
       "1  Maria         IT    Master      F  analyst      2      30\n",
       "2  David         HR    Master      M  analyst      2      30"
      ]
     },
     "execution_count": 22,
     "metadata": {},
     "output_type": "execute_result"
    }
   ],
   "source": [
    "# your answer here- 2nd method\n",
    "employee[:3]"
   ]
  },
  {
   "cell_type": "code",
   "execution_count": 23,
   "metadata": {
    "ExecuteTime": {
     "end_time": "2019-07-17T12:57:29.608446Z",
     "start_time": "2019-07-17T12:57:29.605517Z"
    }
   },
   "outputs": [
    {
     "data": {
      "text/html": [
       "<div>\n",
       "<style scoped>\n",
       "    .dataframe tbody tr th:only-of-type {\n",
       "        vertical-align: middle;\n",
       "    }\n",
       "\n",
       "    .dataframe tbody tr th {\n",
       "        vertical-align: top;\n",
       "    }\n",
       "\n",
       "    .dataframe thead th {\n",
       "        text-align: right;\n",
       "    }\n",
       "</style>\n",
       "<table border=\"1\" class=\"dataframe\">\n",
       "  <thead>\n",
       "    <tr style=\"text-align: right;\">\n",
       "      <th></th>\n",
       "      <th>Name</th>\n",
       "      <th>Department</th>\n",
       "      <th>Education</th>\n",
       "      <th>Gender</th>\n",
       "      <th>Title</th>\n",
       "      <th>Years</th>\n",
       "      <th>Salary</th>\n",
       "    </tr>\n",
       "  </thead>\n",
       "  <tbody>\n",
       "    <tr>\n",
       "      <th>0</th>\n",
       "      <td>Jose</td>\n",
       "      <td>IT</td>\n",
       "      <td>Bachelor</td>\n",
       "      <td>M</td>\n",
       "      <td>analyst</td>\n",
       "      <td>1</td>\n",
       "      <td>35</td>\n",
       "    </tr>\n",
       "    <tr>\n",
       "      <th>1</th>\n",
       "      <td>Maria</td>\n",
       "      <td>IT</td>\n",
       "      <td>Master</td>\n",
       "      <td>F</td>\n",
       "      <td>analyst</td>\n",
       "      <td>2</td>\n",
       "      <td>30</td>\n",
       "    </tr>\n",
       "    <tr>\n",
       "      <th>2</th>\n",
       "      <td>David</td>\n",
       "      <td>HR</td>\n",
       "      <td>Master</td>\n",
       "      <td>M</td>\n",
       "      <td>analyst</td>\n",
       "      <td>2</td>\n",
       "      <td>30</td>\n",
       "    </tr>\n",
       "  </tbody>\n",
       "</table>\n",
       "</div>"
      ],
      "text/plain": [
       "    Name Department Education Gender    Title  Years  Salary\n",
       "0   Jose         IT  Bachelor      M  analyst      1      35\n",
       "1  Maria         IT    Master      F  analyst      2      30\n",
       "2  David         HR    Master      M  analyst      2      30"
      ]
     },
     "execution_count": 23,
     "metadata": {},
     "output_type": "execute_result"
    }
   ],
   "source": [
    "# your answer here- 3nd method\n",
    "employee.iloc[:3]"
   ]
  },
  {
   "cell_type": "markdown",
   "metadata": {},
   "source": [
    "#### Find the employees who's title is associate and the salary above 55?"
   ]
  },
  {
   "cell_type": "code",
   "execution_count": 24,
   "metadata": {
    "ExecuteTime": {
     "end_time": "2019-07-17T12:57:30.293626Z",
     "start_time": "2019-07-17T12:57:30.291102Z"
    }
   },
   "outputs": [
    {
     "data": {
      "text/html": [
       "<div>\n",
       "<style scoped>\n",
       "    .dataframe tbody tr th:only-of-type {\n",
       "        vertical-align: middle;\n",
       "    }\n",
       "\n",
       "    .dataframe tbody tr th {\n",
       "        vertical-align: top;\n",
       "    }\n",
       "\n",
       "    .dataframe thead th {\n",
       "        text-align: right;\n",
       "    }\n",
       "</style>\n",
       "<table border=\"1\" class=\"dataframe\">\n",
       "  <thead>\n",
       "    <tr style=\"text-align: right;\">\n",
       "      <th></th>\n",
       "      <th>Name</th>\n",
       "      <th>Department</th>\n",
       "      <th>Education</th>\n",
       "      <th>Gender</th>\n",
       "      <th>Title</th>\n",
       "      <th>Years</th>\n",
       "      <th>Salary</th>\n",
       "    </tr>\n",
       "  </thead>\n",
       "  <tbody>\n",
       "    <tr>\n",
       "      <th>7</th>\n",
       "      <td>Pedro</td>\n",
       "      <td>IT</td>\n",
       "      <td>Phd</td>\n",
       "      <td>M</td>\n",
       "      <td>associate</td>\n",
       "      <td>7</td>\n",
       "      <td>60</td>\n",
       "    </tr>\n",
       "  </tbody>\n",
       "</table>\n",
       "</div>"
      ],
      "text/plain": [
       "    Name Department Education Gender      Title  Years  Salary\n",
       "7  Pedro         IT       Phd      M  associate      7      60"
      ]
     },
     "execution_count": 24,
     "metadata": {},
     "output_type": "execute_result"
    }
   ],
   "source": [
    "# your answer here\n",
    "employee[(employee['Title'] == 'associate') & (employee['Salary'] > 55)]"
   ]
  },
  {
   "cell_type": "markdown",
   "metadata": {},
   "source": [
    "#### Group the employees based on their number of years of employment. What are the average salaries in each group?"
   ]
  },
  {
   "cell_type": "code",
   "execution_count": 25,
   "metadata": {
    "ExecuteTime": {
     "end_time": "2019-07-17T12:57:30.990429Z",
     "start_time": "2019-07-17T12:57:30.987999Z"
    }
   },
   "outputs": [
    {
     "data": {
      "text/html": [
       "<div>\n",
       "<style scoped>\n",
       "    .dataframe tbody tr th:only-of-type {\n",
       "        vertical-align: middle;\n",
       "    }\n",
       "\n",
       "    .dataframe tbody tr th {\n",
       "        vertical-align: top;\n",
       "    }\n",
       "\n",
       "    .dataframe thead th {\n",
       "        text-align: right;\n",
       "    }\n",
       "</style>\n",
       "<table border=\"1\" class=\"dataframe\">\n",
       "  <thead>\n",
       "    <tr style=\"text-align: right;\">\n",
       "      <th></th>\n",
       "      <th>Salary</th>\n",
       "    </tr>\n",
       "    <tr>\n",
       "      <th>Years</th>\n",
       "      <th></th>\n",
       "    </tr>\n",
       "  </thead>\n",
       "  <tbody>\n",
       "    <tr>\n",
       "      <th>1</th>\n",
       "      <td>35.000000</td>\n",
       "    </tr>\n",
       "    <tr>\n",
       "      <th>2</th>\n",
       "      <td>38.333333</td>\n",
       "    </tr>\n",
       "    <tr>\n",
       "      <th>3</th>\n",
       "      <td>55.000000</td>\n",
       "    </tr>\n",
       "    <tr>\n",
       "      <th>4</th>\n",
       "      <td>35.000000</td>\n",
       "    </tr>\n",
       "    <tr>\n",
       "      <th>7</th>\n",
       "      <td>60.000000</td>\n",
       "    </tr>\n",
       "    <tr>\n",
       "      <th>8</th>\n",
       "      <td>70.000000</td>\n",
       "    </tr>\n",
       "  </tbody>\n",
       "</table>\n",
       "</div>"
      ],
      "text/plain": [
       "          Salary\n",
       "Years           \n",
       "1      35.000000\n",
       "2      38.333333\n",
       "3      55.000000\n",
       "4      35.000000\n",
       "7      60.000000\n",
       "8      70.000000"
      ]
     },
     "execution_count": 25,
     "metadata": {},
     "output_type": "execute_result"
    }
   ],
   "source": [
    "# your answer here\n",
    "employee.groupby('Years').mean()"
   ]
  },
  {
   "cell_type": "markdown",
   "metadata": {},
   "source": [
    "####  What is the average Salary per title?"
   ]
  },
  {
   "cell_type": "code",
   "execution_count": 26,
   "metadata": {
    "ExecuteTime": {
     "end_time": "2019-07-17T12:57:31.723171Z",
     "start_time": "2019-07-17T12:57:31.720761Z"
    }
   },
   "outputs": [
    {
     "data": {
      "text/plain": [
       "Title\n",
       "VP           70.000000\n",
       "analyst      32.500000\n",
       "associate    56.666667\n",
       "Name: Salary, dtype: float64"
      ]
     },
     "execution_count": 26,
     "metadata": {},
     "output_type": "execute_result"
    }
   ],
   "source": [
    "# your answer here\n",
    "employee.groupby('Title').mean()['Salary']"
   ]
  },
  {
   "cell_type": "markdown",
   "metadata": {},
   "source": [
    "#### Show a visual summary of the data using boxplot. What Are the First and Third Quartiles? Comment your results.\n",
    "##### * Hint : Quantiles vs Quartiles*\n",
    "##### - `In Probability and Statistics, quantiles are cut points dividing the range of a probability distribution into continuous intervals with equal probabilities. When division is into four parts the values of the variate corresponding to 25%, 50% and 75% of the total distribution are called quartiles.`"
   ]
  },
  {
   "cell_type": "code",
   "execution_count": 27,
   "metadata": {
    "ExecuteTime": {
     "end_time": "2019-07-17T12:57:32.416976Z",
     "start_time": "2019-07-17T12:57:32.414571Z"
    }
   },
   "outputs": [
    {
     "data": {
      "text/plain": [
       "<AxesSubplot:>"
      ]
     },
     "execution_count": 27,
     "metadata": {},
     "output_type": "execute_result"
    },
    {
     "data": {
      "image/png": "[encoded data removed]",
      "text/plain": [
       "<Figure size 432x288 with 1 Axes>"
      ]
     },
     "metadata": {
      "needs_background": "light"
     },
     "output_type": "display_data"
    }
   ],
   "source": [
    "employee.boxplot(showfliers=True)"
   ]
  },
  {
   "cell_type": "code",
   "execution_count": 28,
   "metadata": {
    "ExecuteTime": {
     "end_time": "2019-07-17T12:57:32.421544Z",
     "start_time": "2019-07-17T12:57:32.419226Z"
    }
   },
   "outputs": [
    {
     "data": {
      "text/plain": [
       "Years      2.0\n",
       "Salary    35.0\n",
       "Name: 0.25, dtype: float64"
      ]
     },
     "execution_count": 28,
     "metadata": {},
     "output_type": "execute_result"
    }
   ],
   "source": [
    "# print first quartile here\n",
    "employee.quantile(0.25)"
   ]
  },
  {
   "cell_type": "code",
   "execution_count": 29,
   "metadata": {
    "ExecuteTime": {
     "end_time": "2019-07-17T12:57:32.426794Z",
     "start_time": "2019-07-17T12:57:32.423836Z"
    }
   },
   "outputs": [
    {
     "data": {
      "text/plain": [
       "Years      7.0\n",
       "Salary    60.0\n",
       "Name: 0.75, dtype: float64"
      ]
     },
     "execution_count": 29,
     "metadata": {},
     "output_type": "execute_result"
    }
   ],
   "source": [
    "# print third quartile here\n",
    "employee.quantile(0.75)"
   ]
  },
  {
   "cell_type": "markdown",
   "metadata": {},
   "source": [
    "#### Is the mean salary per gender different?"
   ]
  },
  {
   "cell_type": "code",
   "execution_count": 30,
   "metadata": {
    "ExecuteTime": {
     "end_time": "2019-07-17T12:57:33.121856Z",
     "start_time": "2019-07-17T12:57:33.119476Z"
    }
   },
   "outputs": [
    {
     "data": {
      "text/plain": [
       "Gender\n",
       "F    47.5\n",
       "M    50.0\n",
       "Name: Salary, dtype: float64"
      ]
     },
     "execution_count": 30,
     "metadata": {},
     "output_type": "execute_result"
    }
   ],
   "source": [
    "# your answer here\n",
    "employee.groupby('Gender').Salary.mean()"
   ]
  },
  {
   "cell_type": "markdown",
   "metadata": {},
   "source": [
    "#### Find the minimum, mean and the maximum of all numeric columns for each Department.\n",
    "\n",
    "##### Hint: Use functions from Data Manipulation lesson"
   ]
  },
  {
   "cell_type": "code",
   "execution_count": 31,
   "metadata": {
    "ExecuteTime": {
     "end_time": "2019-07-17T12:57:33.816716Z",
     "start_time": "2019-07-17T12:57:33.814504Z"
    }
   },
   "outputs": [
    {
     "data": {
      "text/html": [
       "<div>\n",
       "<style scoped>\n",
       "    .dataframe tbody tr th:only-of-type {\n",
       "        vertical-align: middle;\n",
       "    }\n",
       "\n",
       "    .dataframe tbody tr th {\n",
       "        vertical-align: top;\n",
       "    }\n",
       "\n",
       "    .dataframe thead tr th {\n",
       "        text-align: left;\n",
       "    }\n",
       "\n",
       "    .dataframe thead tr:last-of-type th {\n",
       "        text-align: right;\n",
       "    }\n",
       "</style>\n",
       "<table border=\"1\" class=\"dataframe\">\n",
       "  <thead>\n",
       "    <tr>\n",
       "      <th></th>\n",
       "      <th colspan=\"3\" halign=\"left\">Years</th>\n",
       "      <th colspan=\"3\" halign=\"left\">Salary</th>\n",
       "    </tr>\n",
       "    <tr>\n",
       "      <th></th>\n",
       "      <th>min</th>\n",
       "      <th>mean</th>\n",
       "      <th>max</th>\n",
       "      <th>min</th>\n",
       "      <th>mean</th>\n",
       "      <th>max</th>\n",
       "    </tr>\n",
       "    <tr>\n",
       "      <th>Department</th>\n",
       "      <th></th>\n",
       "      <th></th>\n",
       "      <th></th>\n",
       "      <th></th>\n",
       "      <th></th>\n",
       "      <th></th>\n",
       "    </tr>\n",
       "  </thead>\n",
       "  <tbody>\n",
       "    <tr>\n",
       "      <th>HR</th>\n",
       "      <td>2.0</td>\n",
       "      <td>4.666667</td>\n",
       "      <td>8.0</td>\n",
       "      <td>30.0</td>\n",
       "      <td>45.00</td>\n",
       "      <td>70.0</td>\n",
       "    </tr>\n",
       "    <tr>\n",
       "      <th>IT</th>\n",
       "      <td>1.0</td>\n",
       "      <td>4.500000</td>\n",
       "      <td>8.0</td>\n",
       "      <td>30.0</td>\n",
       "      <td>48.75</td>\n",
       "      <td>70.0</td>\n",
       "    </tr>\n",
       "    <tr>\n",
       "      <th>Sales</th>\n",
       "      <td>2.0</td>\n",
       "      <td>2.500000</td>\n",
       "      <td>3.0</td>\n",
       "      <td>55.0</td>\n",
       "      <td>55.00</td>\n",
       "      <td>55.0</td>\n",
       "    </tr>\n",
       "  </tbody>\n",
       "</table>\n",
       "</div>"
      ],
      "text/plain": [
       "           Years                Salary             \n",
       "             min      mean  max    min   mean   max\n",
       "Department                                         \n",
       "HR           2.0  4.666667  8.0   30.0  45.00  70.0\n",
       "IT           1.0  4.500000  8.0   30.0  48.75  70.0\n",
       "Sales        2.0  2.500000  3.0   55.0  55.00  55.0"
      ]
     },
     "execution_count": 31,
     "metadata": {},
     "output_type": "execute_result"
    }
   ],
   "source": [
    "# your answer here\n",
    "employee.groupby('Department').describe()[[('Years',   'min'), ('Years',  'mean'), ('Years',   'max'), \n",
    "                                           ('Salary',   'min'), ('Salary',  'mean'), ('Salary',   'max')]]"
   ]
  },
  {
   "cell_type": "markdown",
   "metadata": {},
   "source": [
    "### Bonus Question\n",
    "\n",
    "#### For each department, compute the difference between the maximal salary and the minimal salary.\n",
    "\n",
    "##### * Hint: try using `agg` or `apply` and `lambda`*"
   ]
  },
  {
   "cell_type": "code",
   "execution_count": 32,
   "metadata": {
    "ExecuteTime": {
     "end_time": "2019-07-17T12:57:34.513733Z",
     "start_time": "2019-07-17T12:57:34.511260Z"
    }
   },
   "outputs": [
    {
     "data": {
      "text/plain": [
       "Department\n",
       "HR       40\n",
       "IT       40\n",
       "Sales     0\n",
       "Name: Salary, dtype: int64"
      ]
     },
     "execution_count": 32,
     "metadata": {},
     "output_type": "execute_result"
    }
   ],
   "source": [
    "# your answer here\n",
    "employee.groupby('Department')['Salary'].agg(max) - employee.groupby('Department')['Salary'].agg(min)"
   ]
  },
  {
   "cell_type": "markdown",
   "metadata": {
    "collapsed": true
   },
   "source": [
    "# Challenge 3"
   ]
  },
  {
   "cell_type": "markdown",
   "metadata": {},
   "source": [
    "#### Open the Orders.csv dataset. Name your dataset orders"
   ]
  },
  {
   "cell_type": "code",
   "execution_count": 33,
   "metadata": {
    "ExecuteTime": {
     "end_time": "2019-07-17T12:57:35.909705Z",
     "start_time": "2019-07-17T12:57:35.907534Z"
    }
   },
   "outputs": [],
   "source": [
    "# your answer here\n",
    "orders = pd.read_csv('orders.zip')"
   ]
  },
  {
   "cell_type": "markdown",
   "metadata": {},
   "source": [
    "#### Explore your dataset by looking at the data types and the summary statistics. Comment your results"
   ]
  },
  {
   "cell_type": "code",
   "execution_count": 34,
   "metadata": {
    "ExecuteTime": {
     "end_time": "2019-07-17T12:57:36.614797Z",
     "start_time": "2019-07-17T12:57:36.612080Z"
    }
   },
   "outputs": [
    {
     "data": {
      "text/plain": [
       "Unnamed: 0        int64\n",
       "InvoiceNo         int64\n",
       "StockCode        object\n",
       "year              int64\n",
       "month             int64\n",
       "day               int64\n",
       "hour              int64\n",
       "Description      object\n",
       "Quantity          int64\n",
       "InvoiceDate      object\n",
       "UnitPrice       float64\n",
       "CustomerID        int64\n",
       "Country          object\n",
       "amount_spent    float64\n",
       "dtype: object"
      ]
     },
     "execution_count": 34,
     "metadata": {},
     "output_type": "execute_result"
    }
   ],
   "source": [
    "# your answer here\n",
    "\n",
    "# There are numeric and categorial variables\n",
    "orders.dtypes"
   ]
  },
  {
   "cell_type": "code",
   "execution_count": 35,
   "metadata": {
    "ExecuteTime": {
     "end_time": "2019-07-17T12:57:36.619475Z",
     "start_time": "2019-07-17T12:57:36.617017Z"
    }
   },
   "outputs": [
    {
     "data": {
      "text/html": [
       "<div>\n",
       "<style scoped>\n",
       "    .dataframe tbody tr th:only-of-type {\n",
       "        vertical-align: middle;\n",
       "    }\n",
       "\n",
       "    .dataframe tbody tr th {\n",
       "        vertical-align: top;\n",
       "    }\n",
       "\n",
       "    .dataframe thead th {\n",
       "        text-align: right;\n",
       "    }\n",
       "</style>\n",
       "<table border=\"1\" class=\"dataframe\">\n",
       "  <thead>\n",
       "    <tr style=\"text-align: right;\">\n",
       "      <th></th>\n",
       "      <th>Unnamed: 0</th>\n",
       "      <th>InvoiceNo</th>\n",
       "      <th>year</th>\n",
       "      <th>month</th>\n",
       "      <th>day</th>\n",
       "      <th>hour</th>\n",
       "      <th>Quantity</th>\n",
       "      <th>UnitPrice</th>\n",
       "      <th>CustomerID</th>\n",
       "      <th>amount_spent</th>\n",
       "    </tr>\n",
       "  </thead>\n",
       "  <tbody>\n",
       "    <tr>\n",
       "      <th>count</th>\n",
       "      <td>397924.000000</td>\n",
       "      <td>397924.000000</td>\n",
       "      <td>397924.000000</td>\n",
       "      <td>397924.000000</td>\n",
       "      <td>397924.000000</td>\n",
       "      <td>397924.000000</td>\n",
       "      <td>397924.000000</td>\n",
       "      <td>397924.000000</td>\n",
       "      <td>397924.000000</td>\n",
       "      <td>397924.000000</td>\n",
       "    </tr>\n",
       "    <tr>\n",
       "      <th>mean</th>\n",
       "      <td>278465.221859</td>\n",
       "      <td>560617.126645</td>\n",
       "      <td>2010.934259</td>\n",
       "      <td>7.612537</td>\n",
       "      <td>3.614555</td>\n",
       "      <td>12.728247</td>\n",
       "      <td>13.021823</td>\n",
       "      <td>3.116174</td>\n",
       "      <td>15294.315171</td>\n",
       "      <td>22.394749</td>\n",
       "    </tr>\n",
       "    <tr>\n",
       "      <th>std</th>\n",
       "      <td>152771.368303</td>\n",
       "      <td>13106.167695</td>\n",
       "      <td>0.247829</td>\n",
       "      <td>3.416527</td>\n",
       "      <td>1.928274</td>\n",
       "      <td>2.273535</td>\n",
       "      <td>180.420210</td>\n",
       "      <td>22.096788</td>\n",
       "      <td>1713.169877</td>\n",
       "      <td>309.055588</td>\n",
       "    </tr>\n",
       "    <tr>\n",
       "      <th>min</th>\n",
       "      <td>0.000000</td>\n",
       "      <td>536365.000000</td>\n",
       "      <td>2010.000000</td>\n",
       "      <td>1.000000</td>\n",
       "      <td>1.000000</td>\n",
       "      <td>6.000000</td>\n",
       "      <td>1.000000</td>\n",
       "      <td>0.000000</td>\n",
       "      <td>12346.000000</td>\n",
       "      <td>0.000000</td>\n",
       "    </tr>\n",
       "    <tr>\n",
       "      <th>25%</th>\n",
       "      <td>148333.750000</td>\n",
       "      <td>549234.000000</td>\n",
       "      <td>2011.000000</td>\n",
       "      <td>5.000000</td>\n",
       "      <td>2.000000</td>\n",
       "      <td>11.000000</td>\n",
       "      <td>2.000000</td>\n",
       "      <td>1.250000</td>\n",
       "      <td>13969.000000</td>\n",
       "      <td>4.680000</td>\n",
       "    </tr>\n",
       "    <tr>\n",
       "      <th>50%</th>\n",
       "      <td>284907.500000</td>\n",
       "      <td>561893.000000</td>\n",
       "      <td>2011.000000</td>\n",
       "      <td>8.000000</td>\n",
       "      <td>3.000000</td>\n",
       "      <td>13.000000</td>\n",
       "      <td>6.000000</td>\n",
       "      <td>1.950000</td>\n",
       "      <td>15159.000000</td>\n",
       "      <td>11.800000</td>\n",
       "    </tr>\n",
       "    <tr>\n",
       "      <th>75%</th>\n",
       "      <td>410079.250000</td>\n",
       "      <td>572090.000000</td>\n",
       "      <td>2011.000000</td>\n",
       "      <td>11.000000</td>\n",
       "      <td>5.000000</td>\n",
       "      <td>14.000000</td>\n",
       "      <td>12.000000</td>\n",
       "      <td>3.750000</td>\n",
       "      <td>16795.000000</td>\n",
       "      <td>19.800000</td>\n",
       "    </tr>\n",
       "    <tr>\n",
       "      <th>max</th>\n",
       "      <td>541908.000000</td>\n",
       "      <td>581587.000000</td>\n",
       "      <td>2011.000000</td>\n",
       "      <td>12.000000</td>\n",
       "      <td>7.000000</td>\n",
       "      <td>20.000000</td>\n",
       "      <td>80995.000000</td>\n",
       "      <td>8142.750000</td>\n",
       "      <td>18287.000000</td>\n",
       "      <td>168469.600000</td>\n",
       "    </tr>\n",
       "  </tbody>\n",
       "</table>\n",
       "</div>"
      ],
      "text/plain": [
       "          Unnamed: 0      InvoiceNo           year          month  \\\n",
       "count  397924.000000  397924.000000  397924.000000  397924.000000   \n",
       "mean   278465.221859  560617.126645    2010.934259       7.612537   \n",
       "std    152771.368303   13106.167695       0.247829       3.416527   \n",
       "min         0.000000  536365.000000    2010.000000       1.000000   \n",
       "25%    148333.750000  549234.000000    2011.000000       5.000000   \n",
       "50%    284907.500000  561893.000000    2011.000000       8.000000   \n",
       "75%    410079.250000  572090.000000    2011.000000      11.000000   \n",
       "max    541908.000000  581587.000000    2011.000000      12.000000   \n",
       "\n",
       "                 day           hour       Quantity      UnitPrice  \\\n",
       "count  397924.000000  397924.000000  397924.000000  397924.000000   \n",
       "mean        3.614555      12.728247      13.021823       3.116174   \n",
       "std         1.928274       2.273535     180.420210      22.096788   \n",
       "min         1.000000       6.000000       1.000000       0.000000   \n",
       "25%         2.000000      11.000000       2.000000       1.250000   \n",
       "50%         3.000000      13.000000       6.000000       1.950000   \n",
       "75%         5.000000      14.000000      12.000000       3.750000   \n",
       "max         7.000000      20.000000   80995.000000    8142.750000   \n",
       "\n",
       "          CustomerID   amount_spent  \n",
       "count  397924.000000  397924.000000  \n",
       "mean    15294.315171      22.394749  \n",
       "std      1713.169877     309.055588  \n",
       "min     12346.000000       0.000000  \n",
       "25%     13969.000000       4.680000  \n",
       "50%     15159.000000      11.800000  \n",
       "75%     16795.000000      19.800000  \n",
       "max     18287.000000  168469.600000  "
      ]
     },
     "execution_count": 35,
     "metadata": {},
     "output_type": "execute_result"
    }
   ],
   "source": [
    "# your answer here\n",
    "orders.describe()"
   ]
  },
  {
   "cell_type": "markdown",
   "metadata": {},
   "source": [
    "####  What is the average Purchase Price?"
   ]
  },
  {
   "cell_type": "code",
   "execution_count": 36,
   "metadata": {
    "ExecuteTime": {
     "end_time": "2019-07-17T12:57:37.341823Z",
     "start_time": "2019-07-17T12:57:37.339036Z"
    }
   },
   "outputs": [
    {
     "data": {
      "text/plain": [
       "22.39474850474768"
      ]
     },
     "execution_count": 36,
     "metadata": {},
     "output_type": "execute_result"
    }
   ],
   "source": [
    "# your answer here\n",
    "orders.amount_spent.mean()"
   ]
  },
  {
   "cell_type": "markdown",
   "metadata": {},
   "source": [
    "#### What were the highest and lowest purchase prices? "
   ]
  },
  {
   "cell_type": "code",
   "execution_count": 37,
   "metadata": {
    "ExecuteTime": {
     "end_time": "2019-07-17T12:57:38.041442Z",
     "start_time": "2019-07-17T12:57:38.038594Z"
    }
   },
   "outputs": [
    {
     "data": {
      "text/plain": [
       "168469.6"
      ]
     },
     "execution_count": 37,
     "metadata": {},
     "output_type": "execute_result"
    }
   ],
   "source": [
    "# your answer here\n",
    "orders.amount_spent.max()"
   ]
  },
  {
   "cell_type": "code",
   "execution_count": 38,
   "metadata": {
    "ExecuteTime": {
     "end_time": "2019-07-17T12:57:38.049778Z",
     "start_time": "2019-07-17T12:57:38.047048Z"
    }
   },
   "outputs": [
    {
     "data": {
      "text/plain": [
       "0.0"
      ]
     },
     "execution_count": 38,
     "metadata": {},
     "output_type": "execute_result"
    }
   ],
   "source": [
    "# your answer here\n",
    "orders.amount_spent.min()"
   ]
  },
  {
   "cell_type": "markdown",
   "metadata": {},
   "source": [
    "#### Select all the customers we have in Spain"
   ]
  },
  {
   "cell_type": "code",
   "execution_count": 39,
   "metadata": {
    "ExecuteTime": {
     "end_time": "2019-07-17T12:57:38.757404Z",
     "start_time": "2019-07-17T12:57:38.755075Z"
    }
   },
   "outputs": [
    {
     "data": {
      "text/plain": [
       "array([12557, 17097, 12540, 12551, 12484, 12539, 12510, 12421, 12502,\n",
       "       12462, 12507, 12541, 12547, 12597, 12545, 12596, 12354, 12417,\n",
       "       12455, 12450, 12548, 12556, 12550, 12546, 12454, 12448, 12544,\n",
       "       12538, 12445, 12442])"
      ]
     },
     "execution_count": 39,
     "metadata": {},
     "output_type": "execute_result"
    }
   ],
   "source": [
    "# your answer here\n",
    "orders[orders['Country'] == 'Spain']['CustomerID'].unique()"
   ]
  },
  {
   "cell_type": "markdown",
   "metadata": {},
   "source": [
    "#### How many customers do we have in Spain?\n",
    "##### Hint : Use value_counts()"
   ]
  },
  {
   "cell_type": "code",
   "execution_count": 40,
   "metadata": {
    "ExecuteTime": {
     "end_time": "2019-07-17T12:57:39.456088Z",
     "start_time": "2019-07-17T12:57:39.453880Z"
    }
   },
   "outputs": [
    {
     "data": {
      "text/plain": [
       "30"
      ]
     },
     "execution_count": 40,
     "metadata": {},
     "output_type": "execute_result"
    }
   ],
   "source": [
    "# your answer here\n",
    "len(orders[orders['Country'] == 'Spain']['CustomerID'].value_counts())"
   ]
  },
  {
   "cell_type": "markdown",
   "metadata": {},
   "source": [
    "#### Select all the customers who have bought more than 50 items ?"
   ]
  },
  {
   "cell_type": "code",
   "execution_count": 41,
   "metadata": {
    "ExecuteTime": {
     "end_time": "2019-07-17T12:57:40.158743Z",
     "start_time": "2019-07-17T12:57:40.156353Z"
    }
   },
   "outputs": [
    {
     "data": {
      "text/html": [
       "<div>\n",
       "<style scoped>\n",
       "    .dataframe tbody tr th:only-of-type {\n",
       "        vertical-align: middle;\n",
       "    }\n",
       "\n",
       "    .dataframe tbody tr th {\n",
       "        vertical-align: top;\n",
       "    }\n",
       "\n",
       "    .dataframe thead th {\n",
       "        text-align: right;\n",
       "    }\n",
       "</style>\n",
       "<table border=\"1\" class=\"dataframe\">\n",
       "  <thead>\n",
       "    <tr style=\"text-align: right;\">\n",
       "      <th></th>\n",
       "      <th>Unnamed: 0</th>\n",
       "      <th>InvoiceNo</th>\n",
       "      <th>StockCode</th>\n",
       "      <th>year</th>\n",
       "      <th>month</th>\n",
       "      <th>day</th>\n",
       "      <th>hour</th>\n",
       "      <th>Description</th>\n",
       "      <th>Quantity</th>\n",
       "      <th>InvoiceDate</th>\n",
       "      <th>UnitPrice</th>\n",
       "      <th>CustomerID</th>\n",
       "      <th>Country</th>\n",
       "      <th>amount_spent</th>\n",
       "    </tr>\n",
       "  </thead>\n",
       "  <tbody>\n",
       "    <tr>\n",
       "      <th>46</th>\n",
       "      <td>46</td>\n",
       "      <td>536371</td>\n",
       "      <td>22086</td>\n",
       "      <td>2010</td>\n",
       "      <td>12</td>\n",
       "      <td>3</td>\n",
       "      <td>9</td>\n",
       "      <td>paper chain kit 50's christmas</td>\n",
       "      <td>80</td>\n",
       "      <td>2010-12-01 09:00:00</td>\n",
       "      <td>2.55</td>\n",
       "      <td>13748</td>\n",
       "      <td>United Kingdom</td>\n",
       "      <td>204.00</td>\n",
       "    </tr>\n",
       "    <tr>\n",
       "      <th>83</th>\n",
       "      <td>83</td>\n",
       "      <td>536376</td>\n",
       "      <td>21733</td>\n",
       "      <td>2010</td>\n",
       "      <td>12</td>\n",
       "      <td>3</td>\n",
       "      <td>9</td>\n",
       "      <td>red hanging heart t-light holder</td>\n",
       "      <td>64</td>\n",
       "      <td>2010-12-01 09:32:00</td>\n",
       "      <td>2.55</td>\n",
       "      <td>15291</td>\n",
       "      <td>United Kingdom</td>\n",
       "      <td>163.20</td>\n",
       "    </tr>\n",
       "    <tr>\n",
       "      <th>96</th>\n",
       "      <td>96</td>\n",
       "      <td>536378</td>\n",
       "      <td>21212</td>\n",
       "      <td>2010</td>\n",
       "      <td>12</td>\n",
       "      <td>3</td>\n",
       "      <td>9</td>\n",
       "      <td>pack of 72 retrospot cake cases</td>\n",
       "      <td>120</td>\n",
       "      <td>2010-12-01 09:37:00</td>\n",
       "      <td>0.42</td>\n",
       "      <td>14688</td>\n",
       "      <td>United Kingdom</td>\n",
       "      <td>50.40</td>\n",
       "    </tr>\n",
       "    <tr>\n",
       "      <th>102</th>\n",
       "      <td>102</td>\n",
       "      <td>536378</td>\n",
       "      <td>85071B</td>\n",
       "      <td>2010</td>\n",
       "      <td>12</td>\n",
       "      <td>3</td>\n",
       "      <td>9</td>\n",
       "      <td>red charlie+lola personal doorsign</td>\n",
       "      <td>96</td>\n",
       "      <td>2010-12-01 09:37:00</td>\n",
       "      <td>0.38</td>\n",
       "      <td>14688</td>\n",
       "      <td>United Kingdom</td>\n",
       "      <td>36.48</td>\n",
       "    </tr>\n",
       "    <tr>\n",
       "      <th>174</th>\n",
       "      <td>176</td>\n",
       "      <td>536386</td>\n",
       "      <td>85099C</td>\n",
       "      <td>2010</td>\n",
       "      <td>12</td>\n",
       "      <td>3</td>\n",
       "      <td>9</td>\n",
       "      <td>jumbo  bag baroque black white</td>\n",
       "      <td>100</td>\n",
       "      <td>2010-12-01 09:57:00</td>\n",
       "      <td>1.65</td>\n",
       "      <td>16029</td>\n",
       "      <td>United Kingdom</td>\n",
       "      <td>165.00</td>\n",
       "    </tr>\n",
       "    <tr>\n",
       "      <th>...</th>\n",
       "      <td>...</td>\n",
       "      <td>...</td>\n",
       "      <td>...</td>\n",
       "      <td>...</td>\n",
       "      <td>...</td>\n",
       "      <td>...</td>\n",
       "      <td>...</td>\n",
       "      <td>...</td>\n",
       "      <td>...</td>\n",
       "      <td>...</td>\n",
       "      <td>...</td>\n",
       "      <td>...</td>\n",
       "      <td>...</td>\n",
       "      <td>...</td>\n",
       "    </tr>\n",
       "    <tr>\n",
       "      <th>397563</th>\n",
       "      <td>541545</td>\n",
       "      <td>581501</td>\n",
       "      <td>22319</td>\n",
       "      <td>2011</td>\n",
       "      <td>12</td>\n",
       "      <td>5</td>\n",
       "      <td>10</td>\n",
       "      <td>hairclips forties fabric assorted</td>\n",
       "      <td>180</td>\n",
       "      <td>2011-12-09 10:46:00</td>\n",
       "      <td>0.19</td>\n",
       "      <td>12985</td>\n",
       "      <td>United Kingdom</td>\n",
       "      <td>34.20</td>\n",
       "    </tr>\n",
       "    <tr>\n",
       "      <th>397572</th>\n",
       "      <td>541554</td>\n",
       "      <td>581501</td>\n",
       "      <td>22544</td>\n",
       "      <td>2011</td>\n",
       "      <td>12</td>\n",
       "      <td>5</td>\n",
       "      <td>10</td>\n",
       "      <td>mini jigsaw spaceboy</td>\n",
       "      <td>96</td>\n",
       "      <td>2011-12-09 10:46:00</td>\n",
       "      <td>0.19</td>\n",
       "      <td>12985</td>\n",
       "      <td>United Kingdom</td>\n",
       "      <td>18.24</td>\n",
       "    </tr>\n",
       "    <tr>\n",
       "      <th>397586</th>\n",
       "      <td>541568</td>\n",
       "      <td>581501</td>\n",
       "      <td>22545</td>\n",
       "      <td>2011</td>\n",
       "      <td>12</td>\n",
       "      <td>5</td>\n",
       "      <td>10</td>\n",
       "      <td>mini jigsaw bunnies</td>\n",
       "      <td>96</td>\n",
       "      <td>2011-12-09 10:46:00</td>\n",
       "      <td>0.19</td>\n",
       "      <td>12985</td>\n",
       "      <td>United Kingdom</td>\n",
       "      <td>18.24</td>\n",
       "    </tr>\n",
       "    <tr>\n",
       "      <th>397622</th>\n",
       "      <td>541604</td>\n",
       "      <td>581514</td>\n",
       "      <td>17091J</td>\n",
       "      <td>2011</td>\n",
       "      <td>12</td>\n",
       "      <td>5</td>\n",
       "      <td>11</td>\n",
       "      <td>vanilla incense in tin</td>\n",
       "      <td>66</td>\n",
       "      <td>2011-12-09 11:20:00</td>\n",
       "      <td>0.38</td>\n",
       "      <td>17754</td>\n",
       "      <td>United Kingdom</td>\n",
       "      <td>25.08</td>\n",
       "    </tr>\n",
       "    <tr>\n",
       "      <th>397721</th>\n",
       "      <td>541703</td>\n",
       "      <td>581567</td>\n",
       "      <td>21417</td>\n",
       "      <td>2011</td>\n",
       "      <td>12</td>\n",
       "      <td>5</td>\n",
       "      <td>11</td>\n",
       "      <td>cockle shell dish</td>\n",
       "      <td>84</td>\n",
       "      <td>2011-12-09 11:56:00</td>\n",
       "      <td>0.79</td>\n",
       "      <td>16626</td>\n",
       "      <td>United Kingdom</td>\n",
       "      <td>66.36</td>\n",
       "    </tr>\n",
       "  </tbody>\n",
       "</table>\n",
       "<p>3294 rows × 14 columns</p>\n",
       "</div>"
      ],
      "text/plain": [
       "        Unnamed: 0  InvoiceNo StockCode  year  month  day  hour  \\\n",
       "46              46     536371     22086  2010     12    3     9   \n",
       "83              83     536376     21733  2010     12    3     9   \n",
       "96              96     536378     21212  2010     12    3     9   \n",
       "102            102     536378    85071B  2010     12    3     9   \n",
       "174            176     536386    85099C  2010     12    3     9   \n",
       "...            ...        ...       ...   ...    ...  ...   ...   \n",
       "397563      541545     581501     22319  2011     12    5    10   \n",
       "397572      541554     581501     22544  2011     12    5    10   \n",
       "397586      541568     581501     22545  2011     12    5    10   \n",
       "397622      541604     581514    17091J  2011     12    5    11   \n",
       "397721      541703     581567     21417  2011     12    5    11   \n",
       "\n",
       "                               Description  Quantity          InvoiceDate  \\\n",
       "46         paper chain kit 50's christmas         80  2010-12-01 09:00:00   \n",
       "83        red hanging heart t-light holder        64  2010-12-01 09:32:00   \n",
       "96         pack of 72 retrospot cake cases       120  2010-12-01 09:37:00   \n",
       "102     red charlie+lola personal doorsign        96  2010-12-01 09:37:00   \n",
       "174         jumbo  bag baroque black white       100  2010-12-01 09:57:00   \n",
       "...                                    ...       ...                  ...   \n",
       "397563   hairclips forties fabric assorted       180  2011-12-09 10:46:00   \n",
       "397572                mini jigsaw spaceboy        96  2011-12-09 10:46:00   \n",
       "397586                 mini jigsaw bunnies        96  2011-12-09 10:46:00   \n",
       "397622              vanilla incense in tin        66  2011-12-09 11:20:00   \n",
       "397721                   cockle shell dish        84  2011-12-09 11:56:00   \n",
       "\n",
       "        UnitPrice  CustomerID         Country  amount_spent  \n",
       "46           2.55       13748  United Kingdom        204.00  \n",
       "83           2.55       15291  United Kingdom        163.20  \n",
       "96           0.42       14688  United Kingdom         50.40  \n",
       "102          0.38       14688  United Kingdom         36.48  \n",
       "174          1.65       16029  United Kingdom        165.00  \n",
       "...           ...         ...             ...           ...  \n",
       "397563       0.19       12985  United Kingdom         34.20  \n",
       "397572       0.19       12985  United Kingdom         18.24  \n",
       "397586       0.19       12985  United Kingdom         18.24  \n",
       "397622       0.38       17754  United Kingdom         25.08  \n",
       "397721       0.79       16626  United Kingdom         66.36  \n",
       "\n",
       "[3294 rows x 14 columns]"
      ]
     },
     "execution_count": 41,
     "metadata": {},
     "output_type": "execute_result"
    }
   ],
   "source": [
    "# your answer here\n",
    "orders[orders['Quantity'] > 50].groupby('CustomerID').head()"
   ]
  },
  {
   "cell_type": "markdown",
   "metadata": {},
   "source": [
    "#### Select orders from Spain that are above 50 items"
   ]
  },
  {
   "cell_type": "code",
   "execution_count": 42,
   "metadata": {
    "ExecuteTime": {
     "end_time": "2019-07-17T12:57:40.873021Z",
     "start_time": "2019-07-17T12:57:40.870424Z"
    }
   },
   "outputs": [
    {
     "data": {
      "text/html": [
       "<div>\n",
       "<style scoped>\n",
       "    .dataframe tbody tr th:only-of-type {\n",
       "        vertical-align: middle;\n",
       "    }\n",
       "\n",
       "    .dataframe tbody tr th {\n",
       "        vertical-align: top;\n",
       "    }\n",
       "\n",
       "    .dataframe thead th {\n",
       "        text-align: right;\n",
       "    }\n",
       "</style>\n",
       "<table border=\"1\" class=\"dataframe\">\n",
       "  <thead>\n",
       "    <tr style=\"text-align: right;\">\n",
       "      <th></th>\n",
       "      <th>Unnamed: 0</th>\n",
       "      <th>InvoiceNo</th>\n",
       "      <th>StockCode</th>\n",
       "      <th>year</th>\n",
       "      <th>month</th>\n",
       "      <th>day</th>\n",
       "      <th>hour</th>\n",
       "      <th>Description</th>\n",
       "      <th>Quantity</th>\n",
       "      <th>InvoiceDate</th>\n",
       "      <th>UnitPrice</th>\n",
       "      <th>CustomerID</th>\n",
       "      <th>Country</th>\n",
       "      <th>amount_spent</th>\n",
       "    </tr>\n",
       "  </thead>\n",
       "  <tbody>\n",
       "    <tr>\n",
       "      <th>4250</th>\n",
       "      <td>6421</td>\n",
       "      <td>536944</td>\n",
       "      <td>22383</td>\n",
       "      <td>2010</td>\n",
       "      <td>12</td>\n",
       "      <td>5</td>\n",
       "      <td>12</td>\n",
       "      <td>lunch bag suki  design</td>\n",
       "      <td>70</td>\n",
       "      <td>2010-12-03 12:20:00</td>\n",
       "      <td>1.65</td>\n",
       "      <td>12557</td>\n",
       "      <td>Spain</td>\n",
       "      <td>115.5</td>\n",
       "    </tr>\n",
       "    <tr>\n",
       "      <th>4251</th>\n",
       "      <td>6422</td>\n",
       "      <td>536944</td>\n",
       "      <td>22384</td>\n",
       "      <td>2010</td>\n",
       "      <td>12</td>\n",
       "      <td>5</td>\n",
       "      <td>12</td>\n",
       "      <td>lunch bag pink polkadot</td>\n",
       "      <td>100</td>\n",
       "      <td>2010-12-03 12:20:00</td>\n",
       "      <td>1.45</td>\n",
       "      <td>12557</td>\n",
       "      <td>Spain</td>\n",
       "      <td>145.0</td>\n",
       "    </tr>\n",
       "    <tr>\n",
       "      <th>4252</th>\n",
       "      <td>6423</td>\n",
       "      <td>536944</td>\n",
       "      <td>20727</td>\n",
       "      <td>2010</td>\n",
       "      <td>12</td>\n",
       "      <td>5</td>\n",
       "      <td>12</td>\n",
       "      <td>lunch bag  black skull.</td>\n",
       "      <td>60</td>\n",
       "      <td>2010-12-03 12:20:00</td>\n",
       "      <td>1.65</td>\n",
       "      <td>12557</td>\n",
       "      <td>Spain</td>\n",
       "      <td>99.0</td>\n",
       "    </tr>\n",
       "    <tr>\n",
       "      <th>4253</th>\n",
       "      <td>6424</td>\n",
       "      <td>536944</td>\n",
       "      <td>20725</td>\n",
       "      <td>2010</td>\n",
       "      <td>12</td>\n",
       "      <td>5</td>\n",
       "      <td>12</td>\n",
       "      <td>lunch bag red retrospot</td>\n",
       "      <td>70</td>\n",
       "      <td>2010-12-03 12:20:00</td>\n",
       "      <td>1.65</td>\n",
       "      <td>12557</td>\n",
       "      <td>Spain</td>\n",
       "      <td>115.5</td>\n",
       "    </tr>\n",
       "    <tr>\n",
       "      <th>4254</th>\n",
       "      <td>6425</td>\n",
       "      <td>536944</td>\n",
       "      <td>20728</td>\n",
       "      <td>2010</td>\n",
       "      <td>12</td>\n",
       "      <td>5</td>\n",
       "      <td>12</td>\n",
       "      <td>lunch bag cars blue</td>\n",
       "      <td>100</td>\n",
       "      <td>2010-12-03 12:20:00</td>\n",
       "      <td>1.45</td>\n",
       "      <td>12557</td>\n",
       "      <td>Spain</td>\n",
       "      <td>145.0</td>\n",
       "    </tr>\n",
       "  </tbody>\n",
       "</table>\n",
       "</div>"
      ],
      "text/plain": [
       "      Unnamed: 0  InvoiceNo StockCode  year  month  day  hour  \\\n",
       "4250        6421     536944     22383  2010     12    5    12   \n",
       "4251        6422     536944     22384  2010     12    5    12   \n",
       "4252        6423     536944     20727  2010     12    5    12   \n",
       "4253        6424     536944     20725  2010     12    5    12   \n",
       "4254        6425     536944     20728  2010     12    5    12   \n",
       "\n",
       "                  Description  Quantity          InvoiceDate  UnitPrice  \\\n",
       "4250  lunch bag suki  design         70  2010-12-03 12:20:00       1.65   \n",
       "4251  lunch bag pink polkadot       100  2010-12-03 12:20:00       1.45   \n",
       "4252  lunch bag  black skull.        60  2010-12-03 12:20:00       1.65   \n",
       "4253  lunch bag red retrospot        70  2010-12-03 12:20:00       1.65   \n",
       "4254      lunch bag cars blue       100  2010-12-03 12:20:00       1.45   \n",
       "\n",
       "      CustomerID Country  amount_spent  \n",
       "4250       12557   Spain         115.5  \n",
       "4251       12557   Spain         145.0  \n",
       "4252       12557   Spain          99.0  \n",
       "4253       12557   Spain         115.5  \n",
       "4254       12557   Spain         145.0  "
      ]
     },
     "execution_count": 42,
     "metadata": {},
     "output_type": "execute_result"
    }
   ],
   "source": [
    "# your answer here\n",
    "orders[(orders['Quantity'] > 50) & (orders['Country'] == 'Spain')].head()"
   ]
  },
  {
   "cell_type": "markdown",
   "metadata": {},
   "source": [
    "#### Select all free orders"
   ]
  },
  {
   "cell_type": "code",
   "execution_count": 43,
   "metadata": {
    "ExecuteTime": {
     "end_time": "2019-07-17T12:57:41.578673Z",
     "start_time": "2019-07-17T12:57:41.576693Z"
    }
   },
   "outputs": [
    {
     "data": {
      "text/html": [
       "<div>\n",
       "<style scoped>\n",
       "    .dataframe tbody tr th:only-of-type {\n",
       "        vertical-align: middle;\n",
       "    }\n",
       "\n",
       "    .dataframe tbody tr th {\n",
       "        vertical-align: top;\n",
       "    }\n",
       "\n",
       "    .dataframe thead th {\n",
       "        text-align: right;\n",
       "    }\n",
       "</style>\n",
       "<table border=\"1\" class=\"dataframe\">\n",
       "  <thead>\n",
       "    <tr style=\"text-align: right;\">\n",
       "      <th></th>\n",
       "      <th>Unnamed: 0</th>\n",
       "      <th>InvoiceNo</th>\n",
       "      <th>StockCode</th>\n",
       "      <th>year</th>\n",
       "      <th>month</th>\n",
       "      <th>day</th>\n",
       "      <th>hour</th>\n",
       "      <th>Description</th>\n",
       "      <th>Quantity</th>\n",
       "      <th>InvoiceDate</th>\n",
       "      <th>UnitPrice</th>\n",
       "      <th>CustomerID</th>\n",
       "      <th>Country</th>\n",
       "      <th>amount_spent</th>\n",
       "    </tr>\n",
       "  </thead>\n",
       "  <tbody>\n",
       "    <tr>\n",
       "      <th>6914</th>\n",
       "      <td>9302</td>\n",
       "      <td>537197</td>\n",
       "      <td>22841</td>\n",
       "      <td>2010</td>\n",
       "      <td>12</td>\n",
       "      <td>7</td>\n",
       "      <td>14</td>\n",
       "      <td>round cake tin vintage green</td>\n",
       "      <td>1</td>\n",
       "      <td>2010-12-05 14:02:00</td>\n",
       "      <td>0.0</td>\n",
       "      <td>12647</td>\n",
       "      <td>Germany</td>\n",
       "      <td>0.0</td>\n",
       "    </tr>\n",
       "    <tr>\n",
       "      <th>22539</th>\n",
       "      <td>33576</td>\n",
       "      <td>539263</td>\n",
       "      <td>22580</td>\n",
       "      <td>2010</td>\n",
       "      <td>12</td>\n",
       "      <td>4</td>\n",
       "      <td>14</td>\n",
       "      <td>advent calendar gingham sack</td>\n",
       "      <td>4</td>\n",
       "      <td>2010-12-16 14:36:00</td>\n",
       "      <td>0.0</td>\n",
       "      <td>16560</td>\n",
       "      <td>United Kingdom</td>\n",
       "      <td>0.0</td>\n",
       "    </tr>\n",
       "    <tr>\n",
       "      <th>25379</th>\n",
       "      <td>40089</td>\n",
       "      <td>539722</td>\n",
       "      <td>22423</td>\n",
       "      <td>2010</td>\n",
       "      <td>12</td>\n",
       "      <td>2</td>\n",
       "      <td>13</td>\n",
       "      <td>regency cakestand 3 tier</td>\n",
       "      <td>10</td>\n",
       "      <td>2010-12-21 13:45:00</td>\n",
       "      <td>0.0</td>\n",
       "      <td>14911</td>\n",
       "      <td>EIRE</td>\n",
       "      <td>0.0</td>\n",
       "    </tr>\n",
       "    <tr>\n",
       "      <th>29080</th>\n",
       "      <td>47068</td>\n",
       "      <td>540372</td>\n",
       "      <td>22090</td>\n",
       "      <td>2011</td>\n",
       "      <td>1</td>\n",
       "      <td>4</td>\n",
       "      <td>16</td>\n",
       "      <td>paper bunting retrospot</td>\n",
       "      <td>24</td>\n",
       "      <td>2011-01-06 16:41:00</td>\n",
       "      <td>0.0</td>\n",
       "      <td>13081</td>\n",
       "      <td>United Kingdom</td>\n",
       "      <td>0.0</td>\n",
       "    </tr>\n",
       "    <tr>\n",
       "      <th>29082</th>\n",
       "      <td>47070</td>\n",
       "      <td>540372</td>\n",
       "      <td>22553</td>\n",
       "      <td>2011</td>\n",
       "      <td>1</td>\n",
       "      <td>4</td>\n",
       "      <td>16</td>\n",
       "      <td>plasters in tin skulls</td>\n",
       "      <td>24</td>\n",
       "      <td>2011-01-06 16:41:00</td>\n",
       "      <td>0.0</td>\n",
       "      <td>13081</td>\n",
       "      <td>United Kingdom</td>\n",
       "      <td>0.0</td>\n",
       "    </tr>\n",
       "  </tbody>\n",
       "</table>\n",
       "</div>"
      ],
      "text/plain": [
       "       Unnamed: 0  InvoiceNo StockCode  year  month  day  hour  \\\n",
       "6914         9302     537197     22841  2010     12    7    14   \n",
       "22539       33576     539263     22580  2010     12    4    14   \n",
       "25379       40089     539722     22423  2010     12    2    13   \n",
       "29080       47068     540372     22090  2011      1    4    16   \n",
       "29082       47070     540372     22553  2011      1    4    16   \n",
       "\n",
       "                        Description  Quantity          InvoiceDate  UnitPrice  \\\n",
       "6914   round cake tin vintage green         1  2010-12-05 14:02:00        0.0   \n",
       "22539  advent calendar gingham sack         4  2010-12-16 14:36:00        0.0   \n",
       "25379      regency cakestand 3 tier        10  2010-12-21 13:45:00        0.0   \n",
       "29080       paper bunting retrospot        24  2011-01-06 16:41:00        0.0   \n",
       "29082        plasters in tin skulls        24  2011-01-06 16:41:00        0.0   \n",
       "\n",
       "       CustomerID         Country  amount_spent  \n",
       "6914        12647         Germany           0.0  \n",
       "22539       16560  United Kingdom           0.0  \n",
       "25379       14911            EIRE           0.0  \n",
       "29080       13081  United Kingdom           0.0  \n",
       "29082       13081  United Kingdom           0.0  "
      ]
     },
     "execution_count": 43,
     "metadata": {},
     "output_type": "execute_result"
    }
   ],
   "source": [
    "# your answer here\n",
    "orders[orders['amount_spent'] == 0].head()"
   ]
  },
  {
   "cell_type": "markdown",
   "metadata": {},
   "source": [
    "#### Select all orders that are 'lunch bag'\n",
    "Hint: Use string functions"
   ]
  },
  {
   "cell_type": "code",
   "execution_count": 44,
   "metadata": {
    "ExecuteTime": {
     "end_time": "2019-07-17T12:57:42.293385Z",
     "start_time": "2019-07-17T12:57:42.290942Z"
    }
   },
   "outputs": [
    {
     "data": {
      "text/html": [
       "<div>\n",
       "<style scoped>\n",
       "    .dataframe tbody tr th:only-of-type {\n",
       "        vertical-align: middle;\n",
       "    }\n",
       "\n",
       "    .dataframe tbody tr th {\n",
       "        vertical-align: top;\n",
       "    }\n",
       "\n",
       "    .dataframe thead th {\n",
       "        text-align: right;\n",
       "    }\n",
       "</style>\n",
       "<table border=\"1\" class=\"dataframe\">\n",
       "  <thead>\n",
       "    <tr style=\"text-align: right;\">\n",
       "      <th></th>\n",
       "      <th>Unnamed: 0</th>\n",
       "      <th>InvoiceNo</th>\n",
       "      <th>StockCode</th>\n",
       "      <th>year</th>\n",
       "      <th>month</th>\n",
       "      <th>day</th>\n",
       "      <th>hour</th>\n",
       "      <th>Description</th>\n",
       "      <th>Quantity</th>\n",
       "      <th>InvoiceDate</th>\n",
       "      <th>UnitPrice</th>\n",
       "      <th>CustomerID</th>\n",
       "      <th>Country</th>\n",
       "      <th>amount_spent</th>\n",
       "    </tr>\n",
       "  </thead>\n",
       "  <tbody>\n",
       "    <tr>\n",
       "      <th>93</th>\n",
       "      <td>93</td>\n",
       "      <td>536378</td>\n",
       "      <td>20725</td>\n",
       "      <td>2010</td>\n",
       "      <td>12</td>\n",
       "      <td>3</td>\n",
       "      <td>9</td>\n",
       "      <td>lunch bag red retrospot</td>\n",
       "      <td>10</td>\n",
       "      <td>2010-12-01 09:37:00</td>\n",
       "      <td>1.65</td>\n",
       "      <td>14688</td>\n",
       "      <td>United Kingdom</td>\n",
       "      <td>16.50</td>\n",
       "    </tr>\n",
       "    <tr>\n",
       "      <th>172</th>\n",
       "      <td>174</td>\n",
       "      <td>536385</td>\n",
       "      <td>22662</td>\n",
       "      <td>2010</td>\n",
       "      <td>12</td>\n",
       "      <td>3</td>\n",
       "      <td>9</td>\n",
       "      <td>lunch bag dolly girl design</td>\n",
       "      <td>10</td>\n",
       "      <td>2010-12-01 09:56:00</td>\n",
       "      <td>1.65</td>\n",
       "      <td>17420</td>\n",
       "      <td>United Kingdom</td>\n",
       "      <td>16.50</td>\n",
       "    </tr>\n",
       "    <tr>\n",
       "      <th>354</th>\n",
       "      <td>363</td>\n",
       "      <td>536401</td>\n",
       "      <td>22662</td>\n",
       "      <td>2010</td>\n",
       "      <td>12</td>\n",
       "      <td>3</td>\n",
       "      <td>11</td>\n",
       "      <td>lunch bag dolly girl design</td>\n",
       "      <td>1</td>\n",
       "      <td>2010-12-01 11:21:00</td>\n",
       "      <td>1.65</td>\n",
       "      <td>15862</td>\n",
       "      <td>United Kingdom</td>\n",
       "      <td>1.65</td>\n",
       "    </tr>\n",
       "    <tr>\n",
       "      <th>359</th>\n",
       "      <td>368</td>\n",
       "      <td>536401</td>\n",
       "      <td>20725</td>\n",
       "      <td>2010</td>\n",
       "      <td>12</td>\n",
       "      <td>3</td>\n",
       "      <td>11</td>\n",
       "      <td>lunch bag red retrospot</td>\n",
       "      <td>1</td>\n",
       "      <td>2010-12-01 11:21:00</td>\n",
       "      <td>1.65</td>\n",
       "      <td>15862</td>\n",
       "      <td>United Kingdom</td>\n",
       "      <td>1.65</td>\n",
       "    </tr>\n",
       "    <tr>\n",
       "      <th>360</th>\n",
       "      <td>369</td>\n",
       "      <td>536401</td>\n",
       "      <td>22382</td>\n",
       "      <td>2010</td>\n",
       "      <td>12</td>\n",
       "      <td>3</td>\n",
       "      <td>11</td>\n",
       "      <td>lunch bag spaceboy design</td>\n",
       "      <td>2</td>\n",
       "      <td>2010-12-01 11:21:00</td>\n",
       "      <td>1.65</td>\n",
       "      <td>15862</td>\n",
       "      <td>United Kingdom</td>\n",
       "      <td>3.30</td>\n",
       "    </tr>\n",
       "  </tbody>\n",
       "</table>\n",
       "</div>"
      ],
      "text/plain": [
       "     Unnamed: 0  InvoiceNo StockCode  year  month  day  hour  \\\n",
       "93           93     536378     20725  2010     12    3     9   \n",
       "172         174     536385     22662  2010     12    3     9   \n",
       "354         363     536401     22662  2010     12    3    11   \n",
       "359         368     536401     20725  2010     12    3    11   \n",
       "360         369     536401     22382  2010     12    3    11   \n",
       "\n",
       "                     Description  Quantity          InvoiceDate  UnitPrice  \\\n",
       "93       lunch bag red retrospot        10  2010-12-01 09:37:00       1.65   \n",
       "172  lunch bag dolly girl design        10  2010-12-01 09:56:00       1.65   \n",
       "354  lunch bag dolly girl design         1  2010-12-01 11:21:00       1.65   \n",
       "359      lunch bag red retrospot         1  2010-12-01 11:21:00       1.65   \n",
       "360   lunch bag spaceboy design          2  2010-12-01 11:21:00       1.65   \n",
       "\n",
       "     CustomerID         Country  amount_spent  \n",
       "93        14688  United Kingdom         16.50  \n",
       "172       17420  United Kingdom         16.50  \n",
       "354       15862  United Kingdom          1.65  \n",
       "359       15862  United Kingdom          1.65  \n",
       "360       15862  United Kingdom          3.30  "
      ]
     },
     "execution_count": 44,
     "metadata": {},
     "output_type": "execute_result"
    }
   ],
   "source": [
    "# your answer here\n",
    "orders[orders['Description'].str.contains('lunch bag')].head()"
   ]
  },
  {
   "cell_type": "markdown",
   "metadata": {},
   "source": [
    "#### Select all orders that are made in 2011 and are 'lunch bag'  "
   ]
  },
  {
   "cell_type": "code",
   "execution_count": 45,
   "metadata": {
    "ExecuteTime": {
     "end_time": "2019-07-17T12:57:43.005949Z",
     "start_time": "2019-07-17T12:57:42.997897Z"
    }
   },
   "outputs": [
    {
     "data": {
      "text/html": [
       "<div>\n",
       "<style scoped>\n",
       "    .dataframe tbody tr th:only-of-type {\n",
       "        vertical-align: middle;\n",
       "    }\n",
       "\n",
       "    .dataframe tbody tr th {\n",
       "        vertical-align: top;\n",
       "    }\n",
       "\n",
       "    .dataframe thead th {\n",
       "        text-align: right;\n",
       "    }\n",
       "</style>\n",
       "<table border=\"1\" class=\"dataframe\">\n",
       "  <thead>\n",
       "    <tr style=\"text-align: right;\">\n",
       "      <th></th>\n",
       "      <th>Unnamed: 0</th>\n",
       "      <th>InvoiceNo</th>\n",
       "      <th>StockCode</th>\n",
       "      <th>year</th>\n",
       "      <th>month</th>\n",
       "      <th>day</th>\n",
       "      <th>hour</th>\n",
       "      <th>Description</th>\n",
       "      <th>Quantity</th>\n",
       "      <th>InvoiceDate</th>\n",
       "      <th>UnitPrice</th>\n",
       "      <th>CustomerID</th>\n",
       "      <th>Country</th>\n",
       "      <th>amount_spent</th>\n",
       "    </tr>\n",
       "  </thead>\n",
       "  <tbody>\n",
       "    <tr>\n",
       "      <th>26340</th>\n",
       "      <td>42678</td>\n",
       "      <td>540015</td>\n",
       "      <td>20725</td>\n",
       "      <td>2011</td>\n",
       "      <td>1</td>\n",
       "      <td>2</td>\n",
       "      <td>11</td>\n",
       "      <td>lunch bag red retrospot</td>\n",
       "      <td>10</td>\n",
       "      <td>2011-01-04 11:40:00</td>\n",
       "      <td>1.65</td>\n",
       "      <td>13319</td>\n",
       "      <td>United Kingdom</td>\n",
       "      <td>16.50</td>\n",
       "    </tr>\n",
       "    <tr>\n",
       "      <th>26341</th>\n",
       "      <td>42679</td>\n",
       "      <td>540015</td>\n",
       "      <td>20726</td>\n",
       "      <td>2011</td>\n",
       "      <td>1</td>\n",
       "      <td>2</td>\n",
       "      <td>11</td>\n",
       "      <td>lunch bag woodland</td>\n",
       "      <td>10</td>\n",
       "      <td>2011-01-04 11:40:00</td>\n",
       "      <td>1.65</td>\n",
       "      <td>13319</td>\n",
       "      <td>United Kingdom</td>\n",
       "      <td>16.50</td>\n",
       "    </tr>\n",
       "    <tr>\n",
       "      <th>26512</th>\n",
       "      <td>42851</td>\n",
       "      <td>540023</td>\n",
       "      <td>22382</td>\n",
       "      <td>2011</td>\n",
       "      <td>1</td>\n",
       "      <td>2</td>\n",
       "      <td>12</td>\n",
       "      <td>lunch bag spaceboy design</td>\n",
       "      <td>2</td>\n",
       "      <td>2011-01-04 12:58:00</td>\n",
       "      <td>1.65</td>\n",
       "      <td>15039</td>\n",
       "      <td>United Kingdom</td>\n",
       "      <td>3.30</td>\n",
       "    </tr>\n",
       "    <tr>\n",
       "      <th>26513</th>\n",
       "      <td>42852</td>\n",
       "      <td>540023</td>\n",
       "      <td>20726</td>\n",
       "      <td>2011</td>\n",
       "      <td>1</td>\n",
       "      <td>2</td>\n",
       "      <td>12</td>\n",
       "      <td>lunch bag woodland</td>\n",
       "      <td>1</td>\n",
       "      <td>2011-01-04 12:58:00</td>\n",
       "      <td>1.65</td>\n",
       "      <td>15039</td>\n",
       "      <td>United Kingdom</td>\n",
       "      <td>1.65</td>\n",
       "    </tr>\n",
       "    <tr>\n",
       "      <th>26860</th>\n",
       "      <td>43616</td>\n",
       "      <td>540098</td>\n",
       "      <td>22384</td>\n",
       "      <td>2011</td>\n",
       "      <td>1</td>\n",
       "      <td>2</td>\n",
       "      <td>15</td>\n",
       "      <td>lunch bag pink polkadot</td>\n",
       "      <td>1</td>\n",
       "      <td>2011-01-04 15:50:00</td>\n",
       "      <td>1.65</td>\n",
       "      <td>16241</td>\n",
       "      <td>United Kingdom</td>\n",
       "      <td>1.65</td>\n",
       "    </tr>\n",
       "  </tbody>\n",
       "</table>\n",
       "</div>"
      ],
      "text/plain": [
       "       Unnamed: 0  InvoiceNo StockCode  year  month  day  hour  \\\n",
       "26340       42678     540015     20725  2011      1    2    11   \n",
       "26341       42679     540015     20726  2011      1    2    11   \n",
       "26512       42851     540023     22382  2011      1    2    12   \n",
       "26513       42852     540023     20726  2011      1    2    12   \n",
       "26860       43616     540098     22384  2011      1    2    15   \n",
       "\n",
       "                      Description  Quantity          InvoiceDate  UnitPrice  \\\n",
       "26340     lunch bag red retrospot        10  2011-01-04 11:40:00       1.65   \n",
       "26341          lunch bag woodland        10  2011-01-04 11:40:00       1.65   \n",
       "26512  lunch bag spaceboy design          2  2011-01-04 12:58:00       1.65   \n",
       "26513          lunch bag woodland         1  2011-01-04 12:58:00       1.65   \n",
       "26860     lunch bag pink polkadot         1  2011-01-04 15:50:00       1.65   \n",
       "\n",
       "       CustomerID         Country  amount_spent  \n",
       "26340       13319  United Kingdom         16.50  \n",
       "26341       13319  United Kingdom         16.50  \n",
       "26512       15039  United Kingdom          3.30  \n",
       "26513       15039  United Kingdom          1.65  \n",
       "26860       16241  United Kingdom          1.65  "
      ]
     },
     "execution_count": 45,
     "metadata": {},
     "output_type": "execute_result"
    }
   ],
   "source": [
    "# your answer here\n",
    "orders[(orders['Description'].str.contains('lunch bag')) &  (orders['year']==2011)].head()"
   ]
  },
  {
   "cell_type": "markdown",
   "metadata": {},
   "source": [
    "#### Show the frequency distribution of the amount spent in Spain."
   ]
  },
  {
   "cell_type": "code",
   "execution_count": 46,
   "metadata": {
    "ExecuteTime": {
     "end_time": "2019-07-17T12:57:43.706277Z",
     "start_time": "2019-07-17T12:57:43.703499Z"
    }
   },
   "outputs": [
    {
     "data": {
      "text/plain": [
       "<AxesSubplot:>"
      ]
     },
     "execution_count": 46,
     "metadata": {},
     "output_type": "execute_result"
    },
    {
     "data": {
      "image/png": "[encoded data removed]",
      "text/plain": [
       "<Figure size 432x288 with 1 Axes>"
      ]
     },
     "metadata": {
      "needs_background": "light"
     },
     "output_type": "display_data"
    }
   ],
   "source": [
    "# your answer here\n",
    "orders[orders['Country'] == 'Spain']['amount_spent'].hist()"
   ]
  },
  {
   "cell_type": "markdown",
   "metadata": {},
   "source": [
    "#### Select all orders made in the month of August"
   ]
  },
  {
   "cell_type": "code",
   "execution_count": 47,
   "metadata": {
    "ExecuteTime": {
     "end_time": "2019-07-17T12:57:44.425773Z",
     "start_time": "2019-07-17T12:57:44.423388Z"
    }
   },
   "outputs": [
    {
     "data": {
      "text/html": [
       "<div>\n",
       "<style scoped>\n",
       "    .dataframe tbody tr th:only-of-type {\n",
       "        vertical-align: middle;\n",
       "    }\n",
       "\n",
       "    .dataframe tbody tr th {\n",
       "        vertical-align: top;\n",
       "    }\n",
       "\n",
       "    .dataframe thead th {\n",
       "        text-align: right;\n",
       "    }\n",
       "</style>\n",
       "<table border=\"1\" class=\"dataframe\">\n",
       "  <thead>\n",
       "    <tr style=\"text-align: right;\">\n",
       "      <th></th>\n",
       "      <th>Unnamed: 0</th>\n",
       "      <th>InvoiceNo</th>\n",
       "      <th>StockCode</th>\n",
       "      <th>year</th>\n",
       "      <th>month</th>\n",
       "      <th>day</th>\n",
       "      <th>hour</th>\n",
       "      <th>Description</th>\n",
       "      <th>Quantity</th>\n",
       "      <th>InvoiceDate</th>\n",
       "      <th>UnitPrice</th>\n",
       "      <th>CustomerID</th>\n",
       "      <th>Country</th>\n",
       "      <th>amount_spent</th>\n",
       "    </tr>\n",
       "  </thead>\n",
       "  <tbody>\n",
       "    <tr>\n",
       "      <th>199475</th>\n",
       "      <td>285421</td>\n",
       "      <td>561904</td>\n",
       "      <td>22075</td>\n",
       "      <td>2011</td>\n",
       "      <td>8</td>\n",
       "      <td>1</td>\n",
       "      <td>8</td>\n",
       "      <td>6 ribbons elegant christmas</td>\n",
       "      <td>96</td>\n",
       "      <td>2011-08-01 08:30:00</td>\n",
       "      <td>1.45</td>\n",
       "      <td>17941</td>\n",
       "      <td>United Kingdom</td>\n",
       "      <td>139.20</td>\n",
       "    </tr>\n",
       "    <tr>\n",
       "      <th>199476</th>\n",
       "      <td>285422</td>\n",
       "      <td>561904</td>\n",
       "      <td>85049E</td>\n",
       "      <td>2011</td>\n",
       "      <td>8</td>\n",
       "      <td>1</td>\n",
       "      <td>8</td>\n",
       "      <td>scandinavian reds ribbons</td>\n",
       "      <td>156</td>\n",
       "      <td>2011-08-01 08:30:00</td>\n",
       "      <td>1.06</td>\n",
       "      <td>17941</td>\n",
       "      <td>United Kingdom</td>\n",
       "      <td>165.36</td>\n",
       "    </tr>\n",
       "    <tr>\n",
       "      <th>199477</th>\n",
       "      <td>285423</td>\n",
       "      <td>561905</td>\n",
       "      <td>21385</td>\n",
       "      <td>2011</td>\n",
       "      <td>8</td>\n",
       "      <td>1</td>\n",
       "      <td>9</td>\n",
       "      <td>ivory hanging decoration  heart</td>\n",
       "      <td>24</td>\n",
       "      <td>2011-08-01 09:31:00</td>\n",
       "      <td>0.85</td>\n",
       "      <td>14947</td>\n",
       "      <td>United Kingdom</td>\n",
       "      <td>20.40</td>\n",
       "    </tr>\n",
       "    <tr>\n",
       "      <th>199478</th>\n",
       "      <td>285424</td>\n",
       "      <td>561905</td>\n",
       "      <td>84970L</td>\n",
       "      <td>2011</td>\n",
       "      <td>8</td>\n",
       "      <td>1</td>\n",
       "      <td>9</td>\n",
       "      <td>single heart zinc t-light holder</td>\n",
       "      <td>12</td>\n",
       "      <td>2011-08-01 09:31:00</td>\n",
       "      <td>0.95</td>\n",
       "      <td>14947</td>\n",
       "      <td>United Kingdom</td>\n",
       "      <td>11.40</td>\n",
       "    </tr>\n",
       "    <tr>\n",
       "      <th>199479</th>\n",
       "      <td>285425</td>\n",
       "      <td>561905</td>\n",
       "      <td>84970S</td>\n",
       "      <td>2011</td>\n",
       "      <td>8</td>\n",
       "      <td>1</td>\n",
       "      <td>9</td>\n",
       "      <td>hanging heart zinc t-light holder</td>\n",
       "      <td>12</td>\n",
       "      <td>2011-08-01 09:31:00</td>\n",
       "      <td>0.85</td>\n",
       "      <td>14947</td>\n",
       "      <td>United Kingdom</td>\n",
       "      <td>10.20</td>\n",
       "    </tr>\n",
       "  </tbody>\n",
       "</table>\n",
       "</div>"
      ],
      "text/plain": [
       "        Unnamed: 0  InvoiceNo StockCode  year  month  day  hour  \\\n",
       "199475      285421     561904     22075  2011      8    1     8   \n",
       "199476      285422     561904    85049E  2011      8    1     8   \n",
       "199477      285423     561905     21385  2011      8    1     9   \n",
       "199478      285424     561905    84970L  2011      8    1     9   \n",
       "199479      285425     561905    84970S  2011      8    1     9   \n",
       "\n",
       "                              Description  Quantity          InvoiceDate  \\\n",
       "199475       6 ribbons elegant christmas         96  2011-08-01 08:30:00   \n",
       "199476          scandinavian reds ribbons       156  2011-08-01 08:30:00   \n",
       "199477    ivory hanging decoration  heart        24  2011-08-01 09:31:00   \n",
       "199478   single heart zinc t-light holder        12  2011-08-01 09:31:00   \n",
       "199479  hanging heart zinc t-light holder        12  2011-08-01 09:31:00   \n",
       "\n",
       "        UnitPrice  CustomerID         Country  amount_spent  \n",
       "199475       1.45       17941  United Kingdom        139.20  \n",
       "199476       1.06       17941  United Kingdom        165.36  \n",
       "199477       0.85       14947  United Kingdom         20.40  \n",
       "199478       0.95       14947  United Kingdom         11.40  \n",
       "199479       0.85       14947  United Kingdom         10.20  "
      ]
     },
     "execution_count": 47,
     "metadata": {},
     "output_type": "execute_result"
    }
   ],
   "source": [
    "# your answer here\n",
    "orders[orders['month']==8].head()"
   ]
  },
  {
   "cell_type": "markdown",
   "metadata": {},
   "source": [
    "#### Select how many orders are made by countries in the month of August\n",
    "##### Hint: Use value_counts()"
   ]
  },
  {
   "cell_type": "code",
   "execution_count": 48,
   "metadata": {
    "ExecuteTime": {
     "end_time": "2019-07-17T12:57:45.143008Z",
     "start_time": "2019-07-17T12:57:45.140172Z"
    }
   },
   "outputs": [
    {
     "data": {
      "text/plain": [
       "United Kingdom     23105\n",
       "Germany              795\n",
       "EIRE                 593\n",
       "France               569\n",
       "Netherlands          280\n",
       "Switzerland          267\n",
       "Spain                252\n",
       "Belgium              194\n",
       "Israel               171\n",
       "Channel Islands      140\n",
       "Australia            107\n",
       "Italy                 95\n",
       "Austria               88\n",
       "Norway                77\n",
       "Finland               61\n",
       "Malta                 55\n",
       "Portugal              41\n",
       "Sweden                40\n",
       "Unspecified           23\n",
       "Iceland               22\n",
       "Poland                17\n",
       "Denmark               16\n",
       "Canada                 5\n",
       "Name: Country, dtype: int64"
      ]
     },
     "execution_count": 48,
     "metadata": {},
     "output_type": "execute_result"
    }
   ],
   "source": [
    "# your answer here\n",
    "orders[orders['month']==8]['Country'].value_counts()"
   ]
  },
  {
   "cell_type": "markdown",
   "metadata": {},
   "source": [
    "#### What's the  average amount of money spent by country"
   ]
  },
  {
   "cell_type": "code",
   "execution_count": 49,
   "metadata": {
    "ExecuteTime": {
     "end_time": "2019-07-17T12:57:45.873163Z",
     "start_time": "2019-07-17T12:57:45.870386Z"
    }
   },
   "outputs": [
    {
     "data": {
      "text/plain": [
       "Country\n",
       "Australia               116.895620\n",
       "Austria                  25.624824\n",
       "Bahrain                  32.258824\n",
       "Belgium                  20.283772\n",
       "Brazil                   35.737500\n",
       "Canada                   24.280662\n",
       "Channel Islands          27.340160\n",
       "Cyprus                   22.134169\n",
       "Czech Republic           33.069600\n",
       "Denmark                  49.882474\n",
       "EIRE                     36.687745\n",
       "European Community       21.670833\n",
       "Finland                  32.913985\n",
       "France                   25.056827\n",
       "Germany                  25.311562\n",
       "Greece                   32.831172\n",
       "Iceland                  23.681319\n",
       "Israel                   29.119718\n",
       "Italy                    23.064960\n",
       "Japan                   116.561900\n",
       "Lebanon                  37.641778\n",
       "Lithuania                47.458857\n",
       "Malta                    24.335625\n",
       "Netherlands             120.798282\n",
       "Norway                   33.736418\n",
       "Poland                   22.226212\n",
       "Portugal                 22.872702\n",
       "RSA                      17.281207\n",
       "Saudi Arabia             16.213333\n",
       "Singapore                95.852658\n",
       "Spain                    24.779521\n",
       "Sweden                   85.096075\n",
       "Switzerland              30.642752\n",
       "USA                      20.002179\n",
       "United Arab Emirates     27.974706\n",
       "United Kingdom           20.625073\n",
       "Unspecified              10.930615\n",
       "Name: amount_spent, dtype: float64"
      ]
     },
     "execution_count": 49,
     "metadata": {},
     "output_type": "execute_result"
    }
   ],
   "source": [
    "# your answer here\n",
    "orders.groupby('Country')['amount_spent'].mean()"
   ]
  },
  {
   "cell_type": "markdown",
   "metadata": {},
   "source": [
    "#### What's the most expensive item?"
   ]
  },
  {
   "cell_type": "code",
   "execution_count": 50,
   "metadata": {
    "ExecuteTime": {
     "end_time": "2019-07-17T12:57:46.579410Z",
     "start_time": "2019-07-17T12:57:46.577248Z"
    }
   },
   "outputs": [
    {
     "data": {
      "text/html": [
       "<div>\n",
       "<style scoped>\n",
       "    .dataframe tbody tr th:only-of-type {\n",
       "        vertical-align: middle;\n",
       "    }\n",
       "\n",
       "    .dataframe tbody tr th {\n",
       "        vertical-align: top;\n",
       "    }\n",
       "\n",
       "    .dataframe thead th {\n",
       "        text-align: right;\n",
       "    }\n",
       "</style>\n",
       "<table border=\"1\" class=\"dataframe\">\n",
       "  <thead>\n",
       "    <tr style=\"text-align: right;\">\n",
       "      <th></th>\n",
       "      <th>Unnamed: 0</th>\n",
       "      <th>InvoiceNo</th>\n",
       "      <th>StockCode</th>\n",
       "      <th>year</th>\n",
       "      <th>month</th>\n",
       "      <th>day</th>\n",
       "      <th>hour</th>\n",
       "      <th>Description</th>\n",
       "      <th>Quantity</th>\n",
       "      <th>InvoiceDate</th>\n",
       "      <th>UnitPrice</th>\n",
       "      <th>CustomerID</th>\n",
       "      <th>Country</th>\n",
       "      <th>amount_spent</th>\n",
       "    </tr>\n",
       "  </thead>\n",
       "  <tbody>\n",
       "    <tr>\n",
       "      <th>118352</th>\n",
       "      <td>173382</td>\n",
       "      <td>551697</td>\n",
       "      <td>POST</td>\n",
       "      <td>2011</td>\n",
       "      <td>5</td>\n",
       "      <td>2</td>\n",
       "      <td>13</td>\n",
       "      <td>postage</td>\n",
       "      <td>1</td>\n",
       "      <td>2011-05-03 13:46:00</td>\n",
       "      <td>8142.75</td>\n",
       "      <td>16029</td>\n",
       "      <td>United Kingdom</td>\n",
       "      <td>8142.75</td>\n",
       "    </tr>\n",
       "  </tbody>\n",
       "</table>\n",
       "</div>"
      ],
      "text/plain": [
       "        Unnamed: 0  InvoiceNo StockCode  year  month  day  hour Description  \\\n",
       "118352      173382     551697      POST  2011      5    2    13     postage   \n",
       "\n",
       "        Quantity          InvoiceDate  UnitPrice  CustomerID         Country  \\\n",
       "118352         1  2011-05-03 13:46:00    8142.75       16029  United Kingdom   \n",
       "\n",
       "        amount_spent  \n",
       "118352       8142.75  "
      ]
     },
     "execution_count": 50,
     "metadata": {},
     "output_type": "execute_result"
    }
   ],
   "source": [
    "# your answer here\n",
    "orders[orders['UnitPrice']==orders['UnitPrice'].max()]"
   ]
  },
  {
   "cell_type": "markdown",
   "metadata": {},
   "source": [
    "#### What was the average amount spent per year ?"
   ]
  },
  {
   "cell_type": "code",
   "execution_count": 51,
   "metadata": {
    "ExecuteTime": {
     "end_time": "2019-07-17T12:57:47.311449Z",
     "start_time": "2019-07-17T12:57:47.308971Z"
    }
   },
   "outputs": [
    {
     "data": {
      "text/plain": [
       "year\n",
       "2010    21.892733\n",
       "2011    22.430074\n",
       "Name: amount_spent, dtype: float64"
      ]
     },
     "execution_count": 51,
     "metadata": {},
     "output_type": "execute_result"
    }
   ],
   "source": [
    "# your answer here\n",
    "orders.groupby('year')['amount_spent'].mean()"
   ]
  },
  {
   "cell_type": "code",
   "execution_count": null,
   "metadata": {},
   "outputs": [],
   "source": []
  }
 ],
 "metadata": {
  "anaconda-cloud": {},
  "kernelspec": {
   "display_name": "Python 3",
   "language": "python",
   "name": "python3"
  },
  "language_info": {
   "codemirror_mode": {
    "name": "ipython",
    "version": 3
   },
   "file_extension": ".py",
   "mimetype": "text/x-python",
   "name": "python",
   "nbconvert_exporter": "python",
   "pygments_lexer": "ipython3",
   "version": "3.7.6"
  },
  "latex_envs": {
   "LaTeX_envs_menu_present": true,
   "autoclose": false,
   "autocomplete": true,
   "bibliofile": "biblio.bib",
   "cite_by": "apalike",
   "current_citInitial": 1,
   "eqLabelWithNumbers": true,
   "eqNumInitial": 1,
   "hotkeys": {
    "equation": "Ctrl-E",
    "itemize": "Ctrl-I"
   },
   "labels_anchors": false,
   "latex_user_defs": false,
   "report_style_numbering": false,
   "user_envs_cfg": false
  },
  "toc": {
   "base_numbering": 1,
   "nav_menu": {},
   "number_sections": true,
   "sideBar": true,
   "skip_h1_title": false,
   "title_cell": "Table of Contents",
   "title_sidebar": "Contents",
   "toc_cell": true,
   "toc_position": {},
   "toc_section_display": true,
   "toc_window_display": false
  },
  "varInspector": {
   "cols": {
    "lenName": 16,
    "lenType": 16,
    "lenVar": 40
   },
   "kernels_config": {
    "python": {
     "delete_cmd_postfix": "",
     "delete_cmd_prefix": "del ",
     "library": "var_list.py",
     "varRefreshCmd": "print(var_dic_list())"
    },
    "r": {
     "delete_cmd_postfix": ") ",
     "delete_cmd_prefix": "rm(",
     "library": "var_list.r",
     "varRefreshCmd": "cat(var_dic_list()) "
    }
   },
   "types_to_exclude": [
    "module",
    "function",
    "builtin_function_or_method",
    "instance",
    "_Feature"
   ],
   "window_display": false
  }
 },
 "nbformat": 4,
 "nbformat_minor": 1
}
